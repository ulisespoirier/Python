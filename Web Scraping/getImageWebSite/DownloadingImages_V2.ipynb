{
 "cells": [
  {
   "cell_type": "markdown",
   "id": "24f12121-fa0d-4e3d-9a73-215dab9fbd03",
   "metadata": {},
   "source": [
    "# Obtener las imágenes del sitio pngmart.com"
   ]
  },
  {
   "cell_type": "code",
   "execution_count": 20,
   "id": "df9b1ff9-465d-4ab2-b6e0-0d7cb66d78f7",
   "metadata": {
    "tags": []
   },
   "outputs": [],
   "source": [
    "import requests\n",
    "from bs4 import BeautifulSoup"
   ]
  },
  {
   "cell_type": "code",
   "execution_count": 21,
   "id": "f3b05aa6-9439-4715-bc2c-09112d6d0816",
   "metadata": {
    "tags": []
   },
   "outputs": [],
   "source": [
    "site_map = 'https://www.pngmart.com/sitemap.xml'"
   ]
  },
  {
   "cell_type": "code",
   "execution_count": 22,
   "id": "0c60015e-51a1-4ebf-9ebb-ba0923faff74",
   "metadata": {
    "tags": []
   },
   "outputs": [],
   "source": [
    "response1 = requests.get(site_map)"
   ]
  },
  {
   "cell_type": "code",
   "execution_count": 28,
   "id": "2c1ac2d9-c379-480f-a65e-dc467765b4e6",
   "metadata": {
    "tags": []
   },
   "outputs": [
    {
     "data": {
      "text/plain": [
       "'<?xml version=\"1.0\" encoding=\"UTF-8\"?>\\n<?xml-stylesheet type=\"text/xsl\" href=\"https://www.pngmart.com/wp-content/plugins/light-xml-sitemap/public/partials/light-xml-sitemap-public-siteindex.xsl\"?>\\n<sitemapindex xmlns=\"http://www.sitemaps.org/schemas/sitemap/0.9\">\\n<sitemap>\\n<loc>https://www.pngmart.com/sitemap-posts-1.xml</loc>\\n</sitemap>\\n<sitemap>\\n<loc>https://www.pngmart.com/sitemap-posts-2.xml</loc>\\n</sitemap>\\n<sitemap>\\n<loc>https://www.pngmart.com/sitemap-posts-3.xml</loc>\\n</sitemap>\\n<sitemap>\\n<loc>https://www.pngmart.com/sitemap-posts-4.xml</loc>\\n</sitemap>\\n<sitemap>\\n<loc>https://www.pngmart.com/sitemap-posts-5.xml</loc>\\n</sitemap>\\n<sitemap>\\n<loc>https://www.pngmart.com/sitemap-posts-6.xml</loc>\\n</sitemap>\\n<sitemap>\\n<loc>https://www.pngmart.com/sitemap-posts-7.xml</loc>\\n</sitemap>\\n<sitemap>\\n<loc>https://www.pngmart.com/sitemap-posts-8.xml</loc>\\n</sitemap>\\n<sitemap>\\n<loc>https://www.pngmart.com/sitemap-posts-9.xml</loc>\\n</sitemap>\\n<sitemap>\\n<loc>https://www.pngmart.com/sitemap-posts-10.xml</loc>\\n</sitemap>\\n<sitemap>\\n<loc>https://www.pngmart.com/sitemap-posts-11.xml</loc>\\n</sitemap>\\n<sitemap>\\n<loc>https://www.pngmart.com/sitemap-posts-12.xml</loc>\\n</sitemap>\\n<sitemap>\\n<loc>https://www.pngmart.com/sitemap-posts-13.xml</loc>\\n</sitemap>\\n<sitemap>\\n<loc>https://www.pngmart.com/sitemap-posts-14.xml</loc>\\n</sitemap>\\n<sitemap>\\n<loc>https://www.pngmart.com/sitemap-posts-15.xml</loc>\\n</sitemap>\\n<sitemap>\\n<loc>https://www.pngmart.com/sitemap-posts-16.xml</loc>\\n</sitemap>\\n<sitemap>\\n<loc>https://www.pngmart.com/sitemap-posts-17.xml</loc>\\n</sitemap>\\n<sitemap>\\n<loc>https://www.pngmart.com/sitemap-posts-18.xml</loc>\\n</sitemap>\\n<sitemap>\\n<loc>https://www.pngmart.com/sitemap-posts-19.xml</loc>\\n</sitemap>\\n<sitemap>\\n<loc>https://www.pngmart.com/sitemap-posts-20.xml</loc>\\n</sitemap>\\n<sitemap>\\n<loc>https://www.pngmart.com/sitemap-posts-21.xml</loc>\\n</sitemap>\\n<sitemap>\\n<loc>https://www.pngmart.com/sitemap-posts-22.xml</loc>\\n</sitemap>\\n<sitemap>\\n<loc>https://www.pngmart.com/sitemap-posts-23.xml</loc>\\n</sitemap>\\n<sitemap>\\n<loc>https://www.pngmart.com/sitemap-posts-24.xml</loc>\\n</sitemap>\\n<sitemap>\\n<loc>https://www.pngmart.com/sitemap-posts-25.xml</loc>\\n</sitemap>\\n<sitemap>\\n<loc>https://www.pngmart.com/sitemap-posts-26.xml</loc>\\n</sitemap>\\n<sitemap>\\n<loc>https://www.pngmart.com/sitemap-posts-27.xml</loc>\\n</sitemap>\\n<sitemap>\\n<loc>https://www.pngmart.com/sitemap-posts-28.xml</loc>\\n</sitemap>\\n<sitemap>\\n<loc>https://www.pngmart.com/sitemap-posts-29.xml</loc>\\n</sitemap>\\n<sitemap>\\n<loc>https://www.pngmart.com/sitemap-posts-30.xml</loc>\\n</sitemap>\\n<sitemap>\\n<loc>https://www.pngmart.com/sitemap-posts-31.xml</loc>\\n</sitemap>\\n<sitemap>\\n<loc>https://www.pngmart.com/sitemap-posts-32.xml</loc>\\n</sitemap>\\n<sitemap>\\n<loc>https://www.pngmart.com/sitemap-posts-33.xml</loc>\\n</sitemap>\\n<sitemap>\\n<loc>https://www.pngmart.com/sitemap-posts-34.xml</loc>\\n</sitemap>\\n<sitemap>\\n<loc>https://www.pngmart.com/sitemap-posts-35.xml</loc>\\n</sitemap>\\n<sitemap>\\n<loc>https://www.pngmart.com/sitemap-posts-36.xml</loc>\\n</sitemap>\\n<sitemap>\\n<loc>https://www.pngmart.com/sitemap-posts-37.xml</loc>\\n</sitemap>\\n<sitemap>\\n<loc>https://www.pngmart.com/sitemap-posts-38.xml</loc>\\n</sitemap>\\n<sitemap>\\n<loc>https://www.pngmart.com/sitemap-posts-39.xml</loc>\\n</sitemap>\\n<sitemap>\\n<loc>https://www.pngmart.com/sitemap-posts-40.xml</loc>\\n</sitemap>\\n<sitemap>\\n<loc>https://www.pngmart.com/sitemap-posts-41.xml</loc>\\n</sitemap>\\n<sitemap>\\n<loc>https://www.pngmart.com/sitemap-posts-42.xml</loc>\\n</sitemap>\\n<sitemap>\\n<loc>https://www.pngmart.com/sitemap-posts-43.xml</loc>\\n</sitemap>\\n<sitemap>\\n<loc>https://www.pngmart.com/sitemap-posts-44.xml</loc>\\n</sitemap>\\n<sitemap>\\n<loc>https://www.pngmart.com/sitemap-posts-45.xml</loc>\\n</sitemap>\\n<sitemap>\\n<loc>https://www.pngmart.com/sitemap-posts-46.xml</loc>\\n</sitemap>\\n<sitemap>\\n<loc>https://www.pngmart.com/sitemap-posts-47.xml</loc>\\n</sitemap>\\n<sitemap>\\n<loc>https://www.pngmart.com/sitemap-posts-48.xml</loc>\\n</sitemap>\\n<sitemap>\\n<loc>https://www.pngmart.com/sitemap-posts-49.xml</loc>\\n</sitemap>\\n<sitemap>\\n<loc>https://www.pngmart.com/sitemap-posts-50.xml</loc>\\n</sitemap>\\n<sitemap>\\n<loc>https://www.pngmart.com/sitemap-posts-51.xml</loc>\\n</sitemap>\\n<sitemap>\\n<loc>https://www.pngmart.com/sitemap-posts-52.xml</loc>\\n</sitemap>\\n<sitemap>\\n<loc>https://www.pngmart.com/sitemap-posts-53.xml</loc>\\n</sitemap>\\n<sitemap>\\n<loc>https://www.pngmart.com/sitemap-posts-54.xml</loc>\\n</sitemap>\\n<sitemap>\\n<loc>https://www.pngmart.com/sitemap-posts-55.xml</loc>\\n</sitemap>\\n<sitemap>\\n<loc>https://www.pngmart.com/sitemap-posts-56.xml</loc>\\n</sitemap>\\n<sitemap>\\n<loc>https://www.pngmart.com/sitemap-posts-57.xml</loc>\\n</sitemap>\\n<sitemap>\\n<loc>https://www.pngmart.com/sitemap-posts-58.xml</loc>\\n</sitemap>\\n<sitemap>\\n<loc>https://www.pngmart.com/sitemap-posts-59.xml</loc>\\n</sitemap>\\n<sitemap>\\n<loc>https://www.pngmart.com/sitemap-posts-60.xml</loc>\\n</sitemap>\\n<sitemap>\\n<loc>https://www.pngmart.com/sitemap-posts-61.xml</loc>\\n</sitemap>\\n<sitemap>\\n<loc>https://www.pngmart.com/sitemap-posts-62.xml</loc>\\n</sitemap>\\n<sitemap>\\n<loc>https://www.pngmart.com/sitemap-posts-63.xml</loc>\\n</sitemap>\\n<sitemap>\\n<loc>https://www.pngmart.com/sitemap-posts-64.xml</loc>\\n</sitemap>\\n<sitemap>\\n<loc>https://www.pngmart.com/sitemap-posts-65.xml</loc>\\n</sitemap>\\n<sitemap>\\n<loc>https://www.pngmart.com/sitemap-posts-66.xml</loc>\\n</sitemap>\\n<sitemap>\\n<loc>https://www.pngmart.com/sitemap-posts-67.xml</loc>\\n</sitemap>\\n<sitemap>\\n<loc>https://www.pngmart.com/sitemap-posts-68.xml</loc>\\n</sitemap>\\n<sitemap>\\n<loc>https://www.pngmart.com/sitemap-posts-69.xml</loc>\\n</sitemap>\\n<sitemap>\\n<loc>https://www.pngmart.com/sitemap-posts-70.xml</loc>\\n</sitemap>\\n<sitemap>\\n<loc>https://www.pngmart.com/sitemap-posts-71.xml</loc>\\n</sitemap>\\n<sitemap>\\n<loc>https://www.pngmart.com/sitemap-posts-72.xml</loc>\\n</sitemap>\\n<sitemap>\\n<loc>https://www.pngmart.com/sitemap-posts-73.xml</loc>\\n</sitemap>\\n<sitemap>\\n<loc>https://www.pngmart.com/sitemap-posts-74.xml</loc>\\n</sitemap>\\n<sitemap>\\n<loc>https://www.pngmart.com/sitemap-posts-75.xml</loc>\\n</sitemap>\\n<sitemap>\\n<loc>https://www.pngmart.com/sitemap-posts-76.xml</loc>\\n</sitemap>\\n<sitemap>\\n<loc>https://www.pngmart.com/sitemap-posts-77.xml</loc>\\n</sitemap>\\n<sitemap>\\n<loc>https://www.pngmart.com/sitemap-posts-78.xml</loc>\\n</sitemap>\\n<sitemap>\\n<loc>https://www.pngmart.com/sitemap-posts-79.xml</loc>\\n</sitemap>\\n<sitemap>\\n<loc>https://www.pngmart.com/sitemap-posts-80.xml</loc>\\n</sitemap>\\n<sitemap>\\n<loc>https://www.pngmart.com/sitemap-posts-81.xml</loc>\\n</sitemap>\\n<sitemap>\\n<loc>https://www.pngmart.com/sitemap-posts-82.xml</loc>\\n</sitemap>\\n<sitemap>\\n<loc>https://www.pngmart.com/sitemap-posts-83.xml</loc>\\n</sitemap>\\n<sitemap>\\n<loc>https://www.pngmart.com/sitemap-posts-84.xml</loc>\\n</sitemap>\\n<sitemap>\\n<loc>https://www.pngmart.com/sitemap-posts-85.xml</loc>\\n</sitemap>\\n<sitemap>\\n<loc>https://www.pngmart.com/sitemap-posts-86.xml</loc>\\n</sitemap>\\n<sitemap>\\n<loc>https://www.pngmart.com/sitemap-posts-87.xml</loc>\\n</sitemap>\\n<sitemap>\\n<loc>https://www.pngmart.com/sitemap-posts-88.xml</loc>\\n</sitemap>\\n<sitemap>\\n<loc>https://www.pngmart.com/sitemap-posts-89.xml</loc>\\n</sitemap>\\n<sitemap>\\n<loc>https://www.pngmart.com/sitemap-posts-90.xml</loc>\\n</sitemap>\\n<sitemap>\\n<loc>https://www.pngmart.com/sitemap-posts-91.xml</loc>\\n</sitemap>\\n<sitemap>\\n<loc>https://www.pngmart.com/sitemap-posts-92.xml</loc>\\n</sitemap>\\n<sitemap>\\n<loc>https://www.pngmart.com/sitemap-posts-93.xml</loc>\\n</sitemap>\\n<sitemap>\\n<loc>https://www.pngmart.com/sitemap-posts-94.xml</loc>\\n</sitemap>\\n<sitemap>\\n<loc>https://www.pngmart.com/sitemap-posts-95.xml</loc>\\n</sitemap>\\n<sitemap>\\n<loc>https://www.pngmart.com/sitemap-posts-96.xml</loc>\\n</sitemap>\\n<sitemap>\\n<loc>https://www.pngmart.com/sitemap-posts-97.xml</loc>\\n</sitemap>\\n<sitemap>\\n<loc>https://www.pngmart.com/sitemap-posts-98.xml</loc>\\n</sitemap>\\n<sitemap>\\n<loc>https://www.pngmart.com/sitemap-posts-99.xml</loc>\\n</sitemap>\\n<sitemap>\\n<loc>https://www.pngmart.com/sitemap-posts-100.xml</loc>\\n</sitemap>\\n<sitemap>\\n<loc>https://www.pngmart.com/sitemap-posts-101.xml</loc>\\n</sitemap>\\n<sitemap>\\n<loc>https://www.pngmart.com/sitemap-posts-102.xml</loc>\\n</sitemap>\\n<sitemap>\\n<loc>https://www.pngmart.com/sitemap-posts-103.xml</loc>\\n</sitemap>\\n<sitemap>\\n<loc>https://www.pngmart.com/sitemap-posts-104.xml</loc>\\n</sitemap>\\n<sitemap>\\n<loc>https://www.pngmart.com/sitemap-posts-105.xml</loc>\\n</sitemap>\\n<sitemap>\\n<loc>https://www.pngmart.com/sitemap-posts-106.xml</loc>\\n</sitemap>\\n<sitemap>\\n<loc>https://www.pngmart.com/sitemap-posts-107.xml</loc>\\n</sitemap>\\n<sitemap>\\n<loc>https://www.pngmart.com/sitemap-posts-108.xml</loc>\\n</sitemap>\\n<sitemap>\\n<loc>https://www.pngmart.com/sitemap-posts-109.xml</loc>\\n</sitemap>\\n<sitemap>\\n<loc>https://www.pngmart.com/sitemap-posts-110.xml</loc>\\n</sitemap>\\n<sitemap>\\n<loc>https://www.pngmart.com/sitemap-posts-111.xml</loc>\\n</sitemap>\\n<sitemap>\\n<loc>https://www.pngmart.com/sitemap-posts-112.xml</loc>\\n</sitemap>\\n<sitemap>\\n<loc>https://www.pngmart.com/sitemap-posts-113.xml</loc>\\n</sitemap>\\n<sitemap>\\n<loc>https://www.pngmart.com/sitemap-posts-114.xml</loc>\\n</sitemap>\\n<sitemap>\\n<loc>https://www.pngmart.com/sitemap-posts-115.xml</loc>\\n</sitemap>\\n<sitemap>\\n<loc>https://www.pngmart.com/sitemap-posts-116.xml</loc>\\n</sitemap>\\n<sitemap>\\n<loc>https://www.pngmart.com/sitemap-posts-117.xml</loc>\\n</sitemap>\\n<sitemap>\\n<loc>https://www.pngmart.com/sitemap-posts-118.xml</loc>\\n</sitemap>\\n<sitemap>\\n<loc>https://www.pngmart.com/sitemap-posts-119.xml</loc>\\n</sitemap>\\n<sitemap>\\n<loc>https://www.pngmart.com/sitemap-posts-120.xml</loc>\\n</sitemap>\\n<sitemap>\\n<loc>https://www.pngmart.com/sitemap-posts-121.xml</loc>\\n</sitemap>\\n<sitemap>\\n<loc>https://www.pngmart.com/sitemap-posts-122.xml</loc>\\n</sitemap>\\n<sitemap>\\n<loc>https://www.pngmart.com/sitemap-posts-123.xml</loc>\\n</sitemap>\\n<sitemap>\\n<loc>https://www.pngmart.com/sitemap-posts-124.xml</loc>\\n</sitemap>\\n<sitemap>\\n<loc>https://www.pngmart.com/sitemap-posts-125.xml</loc>\\n</sitemap>\\n<sitemap>\\n<loc>https://www.pngmart.com/sitemap-posts-126.xml</loc>\\n</sitemap>\\n<sitemap>\\n<loc>https://www.pngmart.com/sitemap-posts-127.xml</loc>\\n</sitemap>\\n<sitemap>\\n<loc>https://www.pngmart.com/sitemap-posts-128.xml</loc>\\n</sitemap>\\n<sitemap>\\n<loc>https://www.pngmart.com/sitemap-posts-129.xml</loc>\\n</sitemap>\\n<sitemap>\\n<loc>https://www.pngmart.com/sitemap-posts-130.xml</loc>\\n</sitemap>\\n<sitemap>\\n<loc>https://www.pngmart.com/sitemap-posts-131.xml</loc>\\n</sitemap>\\n<sitemap>\\n<loc>https://www.pngmart.com/sitemap-posts-132.xml</loc>\\n</sitemap>\\n<sitemap>\\n<loc>https://www.pngmart.com/sitemap-posts-133.xml</loc>\\n</sitemap>\\n<sitemap>\\n<loc>https://www.pngmart.com/sitemap-posts-134.xml</loc>\\n</sitemap>\\n<sitemap>\\n<loc>https://www.pngmart.com/sitemap-posts-135.xml</loc>\\n</sitemap>\\n<sitemap>\\n<loc>https://www.pngmart.com/sitemap-posts-136.xml</loc>\\n</sitemap>\\n<sitemap>\\n<loc>https://www.pngmart.com/sitemap-posts-137.xml</loc>\\n</sitemap>\\n<sitemap>\\n<loc>https://www.pngmart.com/sitemap-posts-138.xml</loc>\\n</sitemap>\\n<sitemap>\\n<loc>https://www.pngmart.com/sitemap-posts-139.xml</loc>\\n</sitemap>\\n<sitemap>\\n<loc>https://www.pngmart.com/sitemap-posts-140.xml</loc>\\n</sitemap>\\n<sitemap>\\n<loc>https://www.pngmart.com/sitemap-posts-141.xml</loc>\\n</sitemap>\\n<sitemap>\\n<loc>https://www.pngmart.com/sitemap-posts-142.xml</loc>\\n</sitemap>\\n<sitemap>\\n<loc>https://www.pngmart.com/sitemap-posts-143.xml</loc>\\n</sitemap>\\n<sitemap>\\n<loc>https://www.pngmart.com/sitemap-posts-144.xml</loc>\\n</sitemap>\\n<sitemap>\\n<loc>https://www.pngmart.com/sitemap-posts-145.xml</loc>\\n</sitemap>\\n<sitemap>\\n<loc>https://www.pngmart.com/sitemap-posts-146.xml</loc>\\n</sitemap>\\n<sitemap>\\n<loc>https://www.pngmart.com/sitemap-posts-147.xml</loc>\\n</sitemap>\\n<sitemap>\\n<loc>https://www.pngmart.com/sitemap-posts-148.xml</loc>\\n</sitemap>\\n<sitemap>\\n<loc>https://www.pngmart.com/sitemap-posts-149.xml</loc>\\n</sitemap>\\n<sitemap>\\n<loc>https://www.pngmart.com/sitemap-posts-150.xml</loc>\\n</sitemap>\\n<sitemap>\\n<loc>https://www.pngmart.com/sitemap-posts-151.xml</loc>\\n</sitemap>\\n<sitemap>\\n<loc>https://www.pngmart.com/sitemap-posts-152.xml</loc>\\n</sitemap>\\n<sitemap>\\n<loc>https://www.pngmart.com/sitemap-posts-153.xml</loc>\\n</sitemap>\\n<sitemap>\\n<loc>https://www.pngmart.com/sitemap-posts-154.xml</loc>\\n</sitemap>\\n<sitemap>\\n<loc>https://www.pngmart.com/sitemap-posts-155.xml</loc>\\n</sitemap>\\n<sitemap>\\n<loc>https://www.pngmart.com/sitemap-posts-156.xml</loc>\\n</sitemap>\\n<sitemap>\\n<loc>https://www.pngmart.com/sitemap-posts-157.xml</loc>\\n</sitemap>\\n<sitemap>\\n<loc>https://www.pngmart.com/sitemap-posts-158.xml</loc>\\n</sitemap>\\n<sitemap>\\n<loc>https://www.pngmart.com/sitemap-posts-159.xml</loc>\\n</sitemap>\\n<sitemap>\\n<loc>https://www.pngmart.com/sitemap-posts-160.xml</loc>\\n</sitemap>\\n<sitemap>\\n<loc>https://www.pngmart.com/sitemap-posts-161.xml</loc>\\n</sitemap>\\n<sitemap>\\n<loc>https://www.pngmart.com/sitemap-posts-162.xml</loc>\\n</sitemap>\\n<sitemap>\\n<loc>https://www.pngmart.com/sitemap-posts-163.xml</loc>\\n</sitemap>\\n<sitemap>\\n<loc>https://www.pngmart.com/sitemap-posts-164.xml</loc>\\n</sitemap>\\n<sitemap>\\n<loc>https://www.pngmart.com/sitemap-posts-165.xml</loc>\\n</sitemap>\\n<sitemap>\\n<loc>https://www.pngmart.com/sitemap-posts-166.xml</loc>\\n</sitemap>\\n<sitemap>\\n<loc>https://www.pngmart.com/sitemap-posts-167.xml</loc>\\n</sitemap>\\n<sitemap>\\n<loc>https://www.pngmart.com/sitemap-posts-168.xml</loc>\\n</sitemap>\\n<sitemap>\\n<loc>https://www.pngmart.com/sitemap-posts-169.xml</loc>\\n</sitemap>\\n<sitemap>\\n<loc>https://www.pngmart.com/sitemap-posts-170.xml</loc>\\n</sitemap>\\n<sitemap>\\n<loc>https://www.pngmart.com/sitemap-posts-171.xml</loc>\\n</sitemap>\\n<sitemap>\\n<loc>https://www.pngmart.com/sitemap-posts-172.xml</loc>\\n</sitemap>\\n<sitemap>\\n<loc>https://www.pngmart.com/sitemap-posts-173.xml</loc>\\n</sitemap>\\n<sitemap>\\n<loc>https://www.pngmart.com/sitemap-posts-174.xml</loc>\\n</sitemap>\\n<sitemap>\\n<loc>https://www.pngmart.com/sitemap-posts-175.xml</loc>\\n</sitemap>\\n<sitemap>\\n<loc>https://www.pngmart.com/sitemap-posts-176.xml</loc>\\n</sitemap>\\n<sitemap>\\n<loc>https://www.pngmart.com/sitemap-posts-177.xml</loc>\\n</sitemap>\\n<sitemap>\\n<loc>https://www.pngmart.com/sitemap-posts-178.xml</loc>\\n</sitemap>\\n<sitemap>\\n<loc>https://www.pngmart.com/sitemap-posts-179.xml</loc>\\n</sitemap>\\n<sitemap>\\n<loc>https://www.pngmart.com/sitemap-posts-180.xml</loc>\\n</sitemap>\\n<sitemap>\\n<loc>https://www.pngmart.com/sitemap-posts-181.xml</loc>\\n</sitemap>\\n<sitemap>\\n<loc>https://www.pngmart.com/sitemap-posts-182.xml</loc>\\n</sitemap>\\n<sitemap>\\n<loc>https://www.pngmart.com/sitemap-posts-183.xml</loc>\\n</sitemap>\\n<sitemap>\\n<loc>https://www.pngmart.com/sitemap-posts-184.xml</loc>\\n</sitemap>\\n<sitemap>\\n<loc>https://www.pngmart.com/sitemap-posts-185.xml</loc>\\n</sitemap>\\n<sitemap>\\n<loc>https://www.pngmart.com/sitemap-posts-186.xml</loc>\\n</sitemap>\\n<sitemap>\\n<loc>https://www.pngmart.com/sitemap-posts-187.xml</loc>\\n</sitemap>\\n<sitemap>\\n<loc>https://www.pngmart.com/sitemap-posts-188.xml</loc>\\n</sitemap>\\n<sitemap>\\n<loc>https://www.pngmart.com/sitemap-posts-189.xml</loc>\\n</sitemap>\\n<sitemap>\\n<loc>https://www.pngmart.com/sitemap-posts-190.xml</loc>\\n</sitemap>\\n<sitemap>\\n<loc>https://www.pngmart.com/sitemap-posts-191.xml</loc>\\n</sitemap>\\n<sitemap>\\n<loc>https://www.pngmart.com/sitemap-posts-192.xml</loc>\\n</sitemap>\\n<sitemap>\\n<loc>https://www.pngmart.com/sitemap-posts-193.xml</loc>\\n</sitemap>\\n<sitemap>\\n<loc>https://www.pngmart.com/sitemap-posts-194.xml</loc>\\n</sitemap>\\n<sitemap>\\n<loc>https://www.pngmart.com/sitemap-posts-195.xml</loc>\\n</sitemap>\\n<sitemap>\\n<loc>https://www.pngmart.com/sitemap-posts-196.xml</loc>\\n</sitemap>\\n<sitemap>\\n<loc>https://www.pngmart.com/sitemap-posts-197.xml</loc>\\n</sitemap>\\n<sitemap>\\n<loc>https://www.pngmart.com/sitemap-posts-198.xml</loc>\\n</sitemap>\\n<sitemap>\\n<loc>https://www.pngmart.com/sitemap-posts-199.xml</loc>\\n</sitemap>\\n<sitemap>\\n<loc>https://www.pngmart.com/sitemap-posts-200.xml</loc>\\n</sitemap>\\n<sitemap>\\n<loc>https://www.pngmart.com/sitemap-posts-201.xml</loc>\\n</sitemap>\\n<sitemap>\\n<loc>https://www.pngmart.com/sitemap-posts-202.xml</loc>\\n</sitemap>\\n<sitemap>\\n<loc>https://www.pngmart.com/sitemap-posts-203.xml</loc>\\n</sitemap>\\n<sitemap>\\n<loc>https://www.pngmart.com/sitemap-posts-204.xml</loc>\\n</sitemap>\\n<sitemap>\\n<loc>https://www.pngmart.com/sitemap-posts-205.xml</loc>\\n</sitemap>\\n<sitemap>\\n<loc>https://www.pngmart.com/sitemap-posts-206.xml</loc>\\n</sitemap>\\n<sitemap>\\n<loc>https://www.pngmart.com/sitemap-posts-207.xml</loc>\\n</sitemap>\\n<sitemap>\\n<loc>https://www.pngmart.com/sitemap-posts-208.xml</loc>\\n</sitemap>\\n<sitemap>\\n<loc>https://www.pngmart.com/sitemap-posts-209.xml</loc>\\n</sitemap>\\n<sitemap>\\n<loc>https://www.pngmart.com/sitemap-posts-210.xml</loc>\\n</sitemap>\\n<sitemap>\\n<loc>https://www.pngmart.com/sitemap-posts-211.xml</loc>\\n</sitemap>\\n<sitemap>\\n<loc>https://www.pngmart.com/sitemap-posts-212.xml</loc>\\n</sitemap>\\n<sitemap>\\n<loc>https://www.pngmart.com/sitemap-posts-213.xml</loc>\\n</sitemap>\\n<sitemap>\\n<loc>https://www.pngmart.com/sitemap-posts-214.xml</loc>\\n</sitemap>\\n<sitemap>\\n<loc>https://www.pngmart.com/sitemap-posts-215.xml</loc>\\n</sitemap>\\n<sitemap>\\n<loc>https://www.pngmart.com/sitemap-posts-216.xml</loc>\\n</sitemap>\\n<sitemap>\\n<loc>https://www.pngmart.com/sitemap-posts-217.xml</loc>\\n</sitemap>\\n<sitemap>\\n<loc>https://www.pngmart.com/sitemap-posts-218.xml</loc>\\n</sitemap>\\n<sitemap>\\n<loc>https://www.pngmart.com/sitemap-posts-219.xml</loc>\\n</sitemap>\\n<sitemap>\\n<loc>https://www.pngmart.com/sitemap-posts-220.xml</loc>\\n</sitemap>\\n<sitemap>\\n<loc>https://www.pngmart.com/sitemap-posts-221.xml</loc>\\n</sitemap>\\n<sitemap>\\n<loc>https://www.pngmart.com/sitemap-posts-222.xml</loc>\\n</sitemap>\\n<sitemap>\\n<loc>https://www.pngmart.com/sitemap-posts-223.xml</loc>\\n</sitemap>\\n<sitemap>\\n<loc>https://www.pngmart.com/sitemap-posts-224.xml</loc>\\n</sitemap>\\n<sitemap>\\n<loc>https://www.pngmart.com/sitemap-posts-225.xml</loc>\\n</sitemap>\\n<sitemap>\\n<loc>https://www.pngmart.com/sitemap-posts-226.xml</loc>\\n</sitemap>\\n<sitemap>\\n<loc>https://www.pngmart.com/sitemap-posts-227.xml</loc>\\n</sitemap>\\n<sitemap>\\n<loc>https://www.pngmart.com/sitemap-posts-228.xml</loc>\\n</sitemap>\\n<sitemap>\\n<loc>https://www.pngmart.com/sitemap-posts-229.xml</loc>\\n</sitemap>\\n<sitemap>\\n<loc>https://www.pngmart.com/sitemap-posts-230.xml</loc>\\n</sitemap>\\n<sitemap>\\n<loc>https://www.pngmart.com/sitemap-posts-231.xml</loc>\\n</sitemap>\\n<sitemap>\\n<loc>https://www.pngmart.com/sitemap-posts-232.xml</loc>\\n</sitemap>\\n<sitemap>\\n<loc>https://www.pngmart.com/sitemap-posts-233.xml</loc>\\n</sitemap>\\n<sitemap>\\n<loc>https://www.pngmart.com/sitemap-posts-234.xml</loc>\\n</sitemap>\\n<sitemap>\\n<loc>https://www.pngmart.com/sitemap-posts-235.xml</loc>\\n</sitemap>\\n<sitemap>\\n<loc>https://www.pngmart.com/sitemap-posts-236.xml</loc>\\n</sitemap>\\n<sitemap>\\n<loc>https://www.pngmart.com/sitemap-posts-237.xml</loc>\\n</sitemap>\\n<sitemap>\\n<loc>https://www.pngmart.com/sitemap-posts-238.xml</loc>\\n</sitemap>\\n<sitemap>\\n<loc>https://www.pngmart.com/sitemap-posts-239.xml</loc>\\n</sitemap>\\n<sitemap>\\n<loc>https://www.pngmart.com/sitemap-pages-1.xml</loc>\\n</sitemap>\\n<sitemap>\\n<loc>https://www.pngmart.com/sitemap-categories.xml</loc>\\n</sitemap>\\n<sitemap>\\n<loc>https://www.pngmart.com/sitemap-tags.xml</loc>\\n</sitemap>\\n</sitemapindex>\\n'"
      ]
     },
     "execution_count": 28,
     "metadata": {},
     "output_type": "execute_result"
    }
   ],
   "source": [
    "response1.text"
   ]
  },
  {
   "cell_type": "code",
   "execution_count": 29,
   "id": "7167ded0-9562-47b3-92f8-e05ec96d0167",
   "metadata": {
    "tags": []
   },
   "outputs": [],
   "source": [
    "xml = response1.text"
   ]
  },
  {
   "cell_type": "code",
   "execution_count": 30,
   "id": "d6492989-f028-4a58-b7dd-f8b6a916c991",
   "metadata": {
    "tags": []
   },
   "outputs": [],
   "source": [
    "soup1 = BeautifulSoup(xml, 'xml')"
   ]
  },
  {
   "cell_type": "code",
   "execution_count": 31,
   "id": "72d271ee-f146-4d64-b6a3-d0a1f8771a24",
   "metadata": {
    "tags": []
   },
   "outputs": [
    {
     "data": {
      "text/plain": [
       "<loc>https://www.pngmart.com/sitemap-posts-1.xml</loc>"
      ]
     },
     "execution_count": 31,
     "metadata": {},
     "output_type": "execute_result"
    }
   ],
   "source": [
    "soup1.find_all('loc')[0]"
   ]
  },
  {
   "cell_type": "code",
   "execution_count": 36,
   "id": "fa7856ad-054d-4594-98f2-805315d667a3",
   "metadata": {},
   "outputs": [],
   "source": [
    "xml1 = soup1.find_all('loc')[0].text"
   ]
  },
  {
   "cell_type": "code",
   "execution_count": 37,
   "id": "71a1ba94-d616-4cf6-a729-2eedc9d3c77d",
   "metadata": {},
   "outputs": [
    {
     "data": {
      "text/plain": [
       "'https://www.pngmart.com/sitemap-posts-1.xml'"
      ]
     },
     "execution_count": 37,
     "metadata": {},
     "output_type": "execute_result"
    }
   ],
   "source": [
    "xml1"
   ]
  },
  {
   "cell_type": "code",
   "execution_count": 39,
   "id": "1cfea1a2-9d74-417e-8bea-b1d1fe434443",
   "metadata": {},
   "outputs": [],
   "source": [
    "response2 = requests.get(xml1)"
   ]
  },
  {
   "cell_type": "code",
   "execution_count": 46,
   "id": "c32522c2-3885-4404-b5dd-85f3b4b2c520",
   "metadata": {},
   "outputs": [],
   "source": [
    "soup2 = BeautifulSoup(response2.text,'xml')"
   ]
  },
  {
   "cell_type": "code",
   "execution_count": 51,
   "id": "8891df94-dc64-4375-a82d-9d3ef3028591",
   "metadata": {},
   "outputs": [],
   "source": [
    "url1 = soup2.find('loc').text"
   ]
  },
  {
   "cell_type": "code",
   "execution_count": 52,
   "id": "28b687e7-a0dd-4a02-b2a2-9eba224f7aa6",
   "metadata": {},
   "outputs": [
    {
     "data": {
      "text/plain": [
       "'https://www.pngmart.com/image/747427'"
      ]
     },
     "execution_count": 52,
     "metadata": {},
     "output_type": "execute_result"
    }
   ],
   "source": [
    "url1"
   ]
  },
  {
   "cell_type": "code",
   "execution_count": 53,
   "id": "c4c47598-5b0d-44c4-9fe5-8f1754bbb1a1",
   "metadata": {},
   "outputs": [],
   "source": [
    "response3 = requests.get(url1)"
   ]
  },
  {
   "cell_type": "code",
   "execution_count": 62,
   "id": "503f774d-d134-45e6-8e30-590f01ff2478",
   "metadata": {},
   "outputs": [],
   "source": [
    "soup3 = BeautifulSoup(response3.text,'html.parser')"
   ]
  },
  {
   "cell_type": "code",
   "execution_count": 68,
   "id": "795297a8-9dcf-47f7-9e8c-d1ea074ad894",
   "metadata": {},
   "outputs": [
    {
     "data": {
      "text/plain": [
       "<a class=\"download\" download=\"\" href=\"https://www.pngmart.com/files/23/Jungle-Leaf-PNG.png\">Download PNG File 📥</a>"
      ]
     },
     "execution_count": 68,
     "metadata": {},
     "output_type": "execute_result"
    }
   ],
   "source": [
    "soup3.find('a',{'class':'download'})"
   ]
  },
  {
   "cell_type": "code",
   "execution_count": 70,
   "id": "3545f5b6-fe3c-42b4-bb08-84621d055e94",
   "metadata": {},
   "outputs": [
    {
     "data": {
      "text/plain": [
       "'https://www.pngmart.com/files/23/Jungle-Leaf-PNG.png'"
      ]
     },
     "execution_count": 70,
     "metadata": {},
     "output_type": "execute_result"
    }
   ],
   "source": [
    "soup3.find('a',{'class':'download'})['href']"
   ]
  },
  {
   "cell_type": "markdown",
   "id": "1a46e3c3-c645-4266-981c-06cd110948a7",
   "metadata": {},
   "source": [
    "### Hasta aquí llegamos con el análisis para a obtener el link de la imagen contenida en la página. Ahora a elaborar la estrategia para obtener todas las imágenes:"
   ]
  },
  {
   "cell_type": "code",
   "execution_count": 1,
   "id": "6db279bd-e438-4b79-9b79-f7642ca4d642",
   "metadata": {
    "tags": []
   },
   "outputs": [],
   "source": [
    "import requests\n",
    "from bs4 import BeautifulSoup"
   ]
  },
  {
   "cell_type": "code",
   "execution_count": 2,
   "id": "7ce205e8-91f9-4c47-b775-042b7f19a6e1",
   "metadata": {
    "tags": []
   },
   "outputs": [],
   "source": [
    "site_map = 'https://www.pngmart.com/sitemap.xml'\n",
    "response1 = requests.get(site_map)\n",
    "xml = response1.text\n",
    "soup1 = BeautifulSoup(xml, 'xml')"
   ]
  },
  {
   "cell_type": "code",
   "execution_count": 3,
   "id": "5fe55664-5d51-480f-8266-eb0771a3624b",
   "metadata": {
    "tags": []
   },
   "outputs": [
    {
     "data": {
      "text/plain": [
       "<loc>https://www.pngmart.com/sitemap-posts-1.xml</loc>"
      ]
     },
     "execution_count": 3,
     "metadata": {},
     "output_type": "execute_result"
    }
   ],
   "source": [
    "soup1.find_all('loc')[0]"
   ]
  },
  {
   "cell_type": "code",
   "execution_count": 4,
   "id": "20873801-6212-4a04-ac36-f41a0bac1834",
   "metadata": {
    "tags": []
   },
   "outputs": [],
   "source": [
    "first_master_list = []\n",
    "for xml1 in soup1.find_all('loc'):\n",
    "    first_master_list.append(xml1.text)"
   ]
  },
  {
   "cell_type": "code",
   "execution_count": 5,
   "id": "e59b1e3a-8ebe-412c-913a-0bf343b4e8b3",
   "metadata": {
    "tags": []
   },
   "outputs": [
    {
     "data": {
      "text/plain": [
       "242"
      ]
     },
     "execution_count": 5,
     "metadata": {},
     "output_type": "execute_result"
    }
   ],
   "source": [
    "len(first_master_list)"
   ]
  },
  {
   "cell_type": "code",
   "execution_count": 9,
   "id": "5b83876a-e2d6-47bc-a37c-f255a5002882",
   "metadata": {
    "tags": []
   },
   "outputs": [
    {
     "data": {
      "text/plain": [
       "['https://www.pngmart.com/sitemap-posts-1.xml',\n",
       " 'https://www.pngmart.com/sitemap-posts-2.xml',\n",
       " 'https://www.pngmart.com/sitemap-posts-3.xml',\n",
       " 'https://www.pngmart.com/sitemap-posts-4.xml',\n",
       " 'https://www.pngmart.com/sitemap-posts-5.xml']"
      ]
     },
     "execution_count": 9,
     "metadata": {},
     "output_type": "execute_result"
    }
   ],
   "source": [
    "first_master_list[0:5]"
   ]
  },
  {
   "cell_type": "code",
   "execution_count": 7,
   "id": "6e7d7dec-1f28-47e1-92cb-3af4a2a5bc36",
   "metadata": {
    "tags": []
   },
   "outputs": [],
   "source": [
    "deep_master_list = []\n",
    "for xml2 in first_master_list:\n",
    "    response2 = requests.get(xml2)\n",
    "    soup2 = BeautifulSoup(response2.text,'xml')\n",
    "    for xml3 in soup2.find_all('image:loc'):\n",
    "        deep_master_list.append(xml3.text)"
   ]
  },
  {
   "cell_type": "code",
   "execution_count": 8,
   "id": "f3a5f5e5-3a35-4874-8746-a17e6737f1a5",
   "metadata": {
    "tags": []
   },
   "outputs": [
    {
     "data": {
      "text/plain": [
       "238410"
      ]
     },
     "execution_count": 8,
     "metadata": {},
     "output_type": "execute_result"
    }
   ],
   "source": [
    "len(deep_master_list)"
   ]
  },
  {
   "cell_type": "code",
   "execution_count": 10,
   "id": "8ba54bda-678e-4de7-9182-62b5629c2d5c",
   "metadata": {
    "tags": []
   },
   "outputs": [
    {
     "data": {
      "text/plain": [
       "['https://www.pngmart.com/files/23/Kraken-PNG-Photos-80x80.png',\n",
       " 'https://www.pngmart.com/files/23/Kraken-PNG-Photo-80x80.png',\n",
       " 'https://www.pngmart.com/files/23/Kraken-PNG-Isolated-Pic-80x80.png',\n",
       " 'https://www.pngmart.com/files/23/Kraken-PNG-Isolated-Image-80x80.png',\n",
       " 'https://www.pngmart.com/files/23/Kraken-PNG-Isolated-HD-80x80.png',\n",
       " 'https://www.pngmart.com/files/23/Kraken-PNG-Isolated-File-80x80.png',\n",
       " 'https://www.pngmart.com/files/23/Kraken-PNG-Image-80x80.png',\n",
       " 'https://www.pngmart.com/files/23/Kraken-PNG-HD-80x80.png',\n",
       " 'https://www.pngmart.com/files/23/Kraken-PNG-HD-Isolated-80x80.png',\n",
       " 'https://www.pngmart.com/files/23/Kraken-PNG-Free-Download-80x80.png',\n",
       " 'https://www.pngmart.com/files/23/Kraken-PNG-File-80x80.png',\n",
       " 'https://www.pngmart.com/files/23/Kraken-PNG-Clipart-80x80.png',\n",
       " 'https://www.pngmart.com/files/23/Kpop-Transparent-PNG-80x80.png',\n",
       " 'https://www.pngmart.com/files/23/Kpop-PNG-80x80.png',\n",
       " 'https://www.pngmart.com/files/23/Kpop-PNG-Transparent-80x80.png',\n",
       " 'https://www.pngmart.com/files/23/Kpop-PNG-Picture-80x80.png',\n",
       " 'https://www.pngmart.com/files/23/Kpop-PNG-Pic-80x80.png',\n",
       " 'https://www.pngmart.com/files/23/Kpop-PNG-Photos-80x80.png',\n",
       " 'https://www.pngmart.com/files/23/Kpop-PNG-Photo-80x80.png',\n",
       " 'https://www.pngmart.com/files/23/Kpop-PNG-Isolated-Pic-80x80.png']"
      ]
     },
     "execution_count": 10,
     "metadata": {},
     "output_type": "execute_result"
    }
   ],
   "source": [
    "deep_master_list[23000:23020]"
   ]
  },
  {
   "cell_type": "markdown",
   "id": "ee6f6776-5f18-4b24-9cfc-d0f23f2e6c29",
   "metadata": {},
   "source": [
    "#### Hasta aquí tenemos una lista con las url's de todas las imágenes."
   ]
  },
  {
   "cell_type": "markdown",
   "id": "d4338162-a238-46e8-896b-a5dc013d5324",
   "metadata": {
    "tags": []
   },
   "source": [
    "#### Vamos a necestar un nombre para bajar las imágenes"
   ]
  },
  {
   "cell_type": "code",
   "execution_count": 20,
   "id": "be24a3db-f8f0-4c18-baf3-5fe42b5abfc7",
   "metadata": {
    "tags": []
   },
   "outputs": [
    {
     "data": {
      "text/plain": [
       "['https:', '', 'www.pngmart.com', 'files', '23', 'Kraken-PNG-Photos-80x80.png']"
      ]
     },
     "execution_count": 20,
     "metadata": {},
     "output_type": "execute_result"
    }
   ],
   "source": [
    "deep_master_list[23000].split('/')"
   ]
  },
  {
   "cell_type": "code",
   "execution_count": 28,
   "id": "a477aab8-4e40-4c38-94cb-2d15e71d6ee0",
   "metadata": {
    "tags": []
   },
   "outputs": [
    {
     "data": {
      "text/plain": [
       "'23-Kraken-PNG-Photos-80x80.png'"
      ]
     },
     "execution_count": 28,
     "metadata": {},
     "output_type": "execute_result"
    }
   ],
   "source": [
    "deep_master_list[23000].split('/')[-2] + '-'+ deep_master_list[23000].split('/')[-1]"
   ]
  },
  {
   "cell_type": "markdown",
   "id": "c00fb091-38ff-4a5b-ae9c-d3a9dfe47314",
   "metadata": {},
   "source": [
    "#### obtenemos la imagen de prueba"
   ]
  },
  {
   "cell_type": "code",
   "execution_count": 27,
   "id": "39849414-793e-490f-af6f-5731f3f3fc26",
   "metadata": {
    "tags": []
   },
   "outputs": [],
   "source": [
    "request_image = requests.get(deep_master_list[23000])"
   ]
  },
  {
   "cell_type": "code",
   "execution_count": 29,
   "id": "1e082383-ef79-4833-abdf-bde936d97825",
   "metadata": {
    "tags": []
   },
   "outputs": [
    {
     "data": {
      "text/plain": [
       "b'\\x89PNG\\r\\n\\x1a\\n\\x00\\x00\\x00\\rIHDR\\x00\\x00\\x00P\\x00\\x00\\x00P\\x08\\x04\\x00\\x00\\x00$\\x18:&\\x00\\x00\\x06\\xe1IDATh\\xde\\xed\\xd9k\\x8cT\\xe5\\x19\\x07\\xf0\\xdf\\x99egY`\\xaf\\xb0\\xcb\\x8ah\\x00A\\xe8R\\xab\\xb6\\xa25\\x1akZ\\xc5\\x92x\\xbf4\\xb5Z\\xea\\x07\\x8dQJZ\\xad\\xb5!\\xb1\\xb5\\xa9\\x1a\\x9b\\xa6\\t\\xd6\\xa6\\xa05j\\x9a\\xd4D)V\\xeb\\x07\\xda\\xd2\\xa4J\\x11*\\x05Q\\x84\\xac\\xc4\\x8a(\\x17\\xdd]v\\xd9\\x0b\\xbb\\xecu\\xe6\\xf4\\xc3.\\xcb\\xe0\\xce93\\\\Z\\x9a8\\xff\\xf3er\\xde\\xf3\\xbe\\xef\\xff}n\\xef\\xf3<C\\x01\\x05\\x14P@\\x01\\x05\\x14P@\\x01\\x9fe\\x04\\'p\\xa5b\\x95&I\\xea\\xb0O\\x8f\\xd4\\xff\\x13\\xc1@\\xb9\\x8b\\\\i\\x9eZI\\x9d\\xde\\xf77\\xab\\xec8Q$\\x8f\\x17E\\xce\\xf7\\x82va\\xc63`\\x9b\\xc5*O\\xa0\\x86\\x8e\\x19c\\\\\\xed]\\xe9#\\xe8\\r=]\\x96\\xa9;\\xd9\\xf4\\x12\\xe6\\xdb\\x91\\x85\\xdc\\xd0\\xd3\\xe7\\x89\\x93+\\xc5\\xc0t\\xeb#\\xe9\\x85B\\xdd\\x16\\x19s\\xf2\\x08\\x16{\\xd0@,\\xc1P\\x839\\'\\x8f\\xe0t\\xdbr\\xd0\\x0b\\xf5\\xbb_\\xe2xl\\xe8xp\\x81\\x19yH\\xf92e\\'\\x87``\\x9e\\xb1y|7K\\xcd\\x7f\\x97` \\x91\\xd5\\x13\\x93\\xa6\\x8e\\xbc\\xef\\xd5$\\xcc\\x18\\xeb\\xd0;\\xf2\\xbb\\xcc\\xa4\\x88u\\x83\\x13A0PcrD\\x80>,\\xbf}\\xee\\xf5\\x8c\\x1dB4y\\xc5}vf\\xecQ\\x9cu~\\xa9S\\x14\\x1d?\\xc1\\x1agj;B:\\x87\\x90rp\\xe4w\\xad3-\\xb3ZZ\\xda*\\x0fH\\x9822\\xd6\\xef@\\xd6\\x95{\\x8dw\\xc6\\xf1F\\xc9\\xb1\\xae\\xcf\\xd8\\xea\\xd3\\xb2\\xfd\\xb9\\xd4\\x88\\xb7\\xf6\\xf8H\\xb7P\\xe8\\x80\\xed:2\\xfcxk\\xe4\\n%\\xe6\\xe7\\xbak\\x129\\xd4\\xfb\\x05i\\x8d\\x11\\xa3\\xa1\\xf5z2\\x8er\\xbaq`\\x82\\xd9\\xca3\\xbe{Sk\\xc4\\n\\xfd>pa| \\x8f\\'\\x98t\\x91\\x06\\xe9\\xc8\\xf1\\x8d\\xb6\\xe6\\xd4\\xc1\\x01\\xaf\\xe8\\x8f<\\xe2.\\xa7\\xc4\\xcb0\\x9e`\\x9dZ{c\\xc6\\x9b=\\xa5;\\x07\\xc1W\\xbd\\x96\\xd5\\x82\\x0f\\xc9\\xb0\\xd1\\xb9\\xc7Np\\x9a\\xc1\\x0cG\\xc8\\xe6&/Y\\x15\\xb3=\\x8d\\x1e\\xd7\\x16\\xbb\\xc7\\x1eg\\xc7\\xb1\\x88\\'x\\x9a\\x9e\\xd8\\xedi\\xf7\\x98O\"G\\xd3^\\xf4z\\x8e\\x15zLVr\\xac\\x04\\xcb\\xe2\\xa6\\x0e[\\xd1\\x16\\xeb\"G;\\xbc\\x18i\\x7f\\x87\\x19TH\\x1e+\\xc1>\\x93s&K=6\\xc4\\xa8\\xef\\xbd\\x1c\\xf2c\\x92\\x92\\x187\\xccAp\\x8f\\xe9*r\\xca\\xb05\\xb2\\xf68\\xa03\\xe7=u\\xae\\xce\\x8c`u\\xd4\\x04k\\xd4\\xe7\\x8c\\xf5\\xe3#WI\\xc6)o8f^\\x14_\\\\\\xc5\\x13\\xdcm\\xaf\\x9br\\xd8a\\xd2Y\\x91G\\x98\\x1cy\\x87\\x1c\\x92\\xdfy\\xea\\xfd3\\xa7\\x19\\x08\"2\\x8b\\x84\\xdb\\xed4?V\\x86\\xb34\\xc4$\\xab\\xf7\\xc6\\x8a`\\xa2\\x95V\\x9b\\x98OB\\x95\\x8c\\xc8+N\\xb5\\xd6\\xeb\\xe6DR,\\xf1\\xb0\\xfe\\x98|z\\xa3\\x19\\x91sK-\\xd1\\xe4\\xd6|R\\xbe@UD\\xea\\x99p\\x8dO\\xacvN\\xd6\\x03\\x94\\xf8\\xb6\\xe6\\xd8\\x84\\x7f\\xd0\\x93&e\\xa1\\x18\\xa8p\\x9f\\x16\\xbfW\\x99_\\xae8\\xd5\\x84\\xc8|\\xe6>\\xed\\xb6Xh\\xe2\\x11\\x93\\x02\\x93\\xdc\\xe3\\xe3\\x9c5I\\x8f\\xa7\\xcd\\xfe\\xd4\\xf1\\x92\\xce\\xf6\\x94Nk#]\\xb0\\xd8\\xb8\\xa1\\x91C\\x13+%#\\xb2\\xb6A[\\xf4\\xb8\\xc2\\xb5.T!0F\\x89*3\\\\\\xed\\'nS\\x85\\x1d\\x1a\\xb3&\\xf5\\x1d\\xb6\\xab\\x91t\\xb6K\\xd5\\x18\\x94P\\xac\\xccT\\x17Z\\xe4\\x01\\x97x\\xc3=\\xb6E8\\xc8x\\xe5G\\xf2\\xa91/\\xc6\\x16\\xc6\\xba\\xcez}\\xfa\\xed\\xf3\\xae\\xcd\\xb6\\xfaX\\xdf\\xb0\\x1b\\xfc\\xdd\\xb5^\\x15J\\xd9;\\xd2_h\\xd2#\\xd4\\xeaV\\xcf\\xe8\\x1cVu\\xab\\x06\\x9b\\xbc\\xe5\\x03]RZ-73\\xd2:\\x03g\\xa8\\xfdt\\xb0\\xb8*R\\xc9CSN\\xb3\\xc8\\xab\\x9a\\xf5IIK\\xe9\\xd7f\\x9d\\xef\\x9b\\xe2\\x02\\x8dB\\xfb\\xad\\x18Q\\xeb\\x1b\\xb6\\t\\xa5\\xfcH\\xa5o\\xfa\\xb3\\x96\\x91\\xea9\\xa5\\xd7.\\xcfYpH\\x85\\x11\\xa1\\xeb+\\xc6\\x1f\\xea\\xac\\x0ca@\\x97\\xcf\\xd9\\x18s_\\xec\\xf1\\x84\\xe7\\xcd4\\xd74\\x13\\xf4\\xdak\\xab\\xedZ%\\xdc\\xa5\\x06ok\\xc9p\\xad5\\xea%\\\\\\xe9Y+\\xfcU\\xbd/\\x99\\xa5\\\\J\\xb3\\x06o\\xf9\\xc0\\xc1\\xd8\\xd87Urt\\x16Ug\\xf11\\xd4\\xaf\\x81\\xb9\\xb6\\x0bu\\xbb\\xd3\\xcb#\\x12\\xdc\\xe9[v\\tuY8b8\\x811\\x8a\\xf2\\xaa@\\x92\\x16\\x1e\\xae\\xb7\\x13\\x19uY\\x9b\\xf9\\xb9\\xab\\xacQ\\xb1\\xecN3\\xb1\\xd6\\x9bfg\\x94P\\x03VJ\\x19\\xef.\\xa7\\r\\x93\\n\\rJ\\xe5\\xbe3\\x04\\xe6)\\xb1;{\\xfe\\xbc\\xd4yGUe\\x8dq\\x8b\\xfdB{]\\xeez]#\\x12L\\xfb\\x95z\\x9b\\x85\\x06,=*\\xbd\\x04\\xa6{4*\\xb8\\x07.\\xf5L\\xcc\\xad1:\\x88_\\xe6=\\xa1n\\xf7+\\xf7\\xac\\xb4Pz\\xb8\\xce{\\xc7\\x0c7h\\x16\\xea\\xf0\\xbd\\xbc\\xfa\\x0fC\\x0c\\xea,umt<)\\xb6\\xd0\\xf3\\xbe\\x98W\\xbf\\xa1\\xd8\\x02\\rB\\xbd\\x1eW\\xe1|{\\x84B\\x9b\\xbdhP\\xa8\\xcf]J\\xfd@\\xbbP\\x8b\\xc5&\\xe4q\\xec\\xc04\\xcb\\xfdPi|\\x1d\\xbc\\xc8j\\xd7\\xc5\\x7f$Pi\\x91\\x0f\\x85\\x0e\\xfa\\x8d\\x1a\\xe3,\\x97\\x16js\\x8b\\xb9\\xb6\\x08\\x85\\xfee\\x9a\\t\\x96h\\x13j\\xf7\\x8b\\x8c6I\\xd4\\x81/\\xf6\\x92GT\\xe4:J\\x89\\x9b\\xad\\xf3k\\xe7\\x18\\x9b\\xf5\\xd3@\\x99\\xafY\\xa9K\\xa8\\xd9\\x8fUI\\xb8F\\x8b\\xd0\\x80\\xc7MP\\xe4f\\xadB\\xfd\\x1eVb\\x9c\\xdb\\xed\\x90\\xd6\\xef57\\xaa\\xca\\xaa\\x9b@\\xb1\\x99\\x1e\\xb4\\xc9\\x92\\x9c\\xe9\\xf1\\xb0\\xe9\\x9f\\xef\\x05[-7\\xdf\\x14%\\xc6\\x08\\x863\\x9ej\\xf5\\xbec\\xa5}\\xd2\\xfa\\xbc\\xee\\x1a\\xa5\\x02\\xb3m\\x10J\\xfb\\x8b\\xd3\\x05(\\xf5\\x90\\x1e\\xa1FWI(v\\xb1?\\xe9\\x12\\xea\\xb0\\xca\\x1d\\xe6\\xaa\\x1c\\t7\\x81\\xa4Z\\x97x\\xd4[\\xd6\\xbaQ\\xe9h\\x91\\x04\\x91*\\xbc\\xc2B\\xf5\\xf6\\xfb\\xb7>\\xddz\\x15\\xab2\\xd5t\\x93\\x15\\xeb\\xd1\\xe09+\\xedE\\x9d\\xc7\\xdc(\\xb0\\xde\\xdd\\xb6\\x0e\\x87\\x91j\\x0f\\xb9]\\xd2;\\xee\\xb0\\x11\\xd5\\x16\\xb8\\xcdy\\xca\\xa44z\\xdfN\\x8d\\xba$T\\x98b\\xa6S5Za\\x85\\xddq\\xb5I6\\x1f\\xadv\\x85\\xa5\\xd6\\xf8P\\x8bN\\xdd\\xba\\xb4\\xd9c\\x83\\xdf\\xba\\xc9\\xa9\\x8a\\x04\\x02u\\x9e\\xd6\\'e\\x8ds3\\xd4\\x17\\xa8\\xb5\\xccAi\\xeb\\x86\\xdf\\'L4\\xdf/\\xbd\\xe6#\\xfbu\\xeb\\xd6\\xa9\\xc5.ox\\xd27L\\x8d.\\xcdr\\xf9V\\x91\\n\\xd5&\\xab\\x90\\x94r@\\xb3}\\xda\\r\\x0c\\x1fa\\xa6\\x9f\\xb9^\\xca\\xcb~:\\xaa~\\xab\\xf6]\\x8bM\\xb4\\xc9\\x12k\\x86Ct\\x91r5\\xeaTJ\\x1a\\xd0\\xa9\\xc9>\\xed\\x06\\xf3\\x08\\xdf\\xc7\\xd4\\xf7Z`\\x9d\\x01\\x1fY\\xa2&kJZ\\xea&\\x1b\\r\\xd8\\xe9nU\\xff\\xcb?#\\x02I\\x9f\\xf7\\x98O4\\xf9\\x9d/G\\xb4\\'\\x87d|\\x86G\\xec\\xd0\\xe1\\x8f\\xbe\\x9aW,<j\\x15\\x8f\\xde\\xb2\\xca\\\\W\\xbb\\\\\\xe0\\x1f\\xfe\\xe0M\\xdd\\xb1\\n\\n\\x14\\x9b\\xe3\\x06_Wm\\x83\\x956i::\\x95\\x06G\\xf1\\xe5$\\xb3\\xd5\\x9b\\xa3\\xd2\\x1e\\x9b\\xbd\\xed\\xe3\\x9cm\\x8d\\xc3\\x96\\\\\\xeb,\\xf3\\xcc\\xd2\\xef}\\xdb\\xbck\\xb7\\xc1\\x13O\\xb0Z\\xb9P\\xb7.\\x03y\\xe5%\\xa3[\\xf1I\\xe3\\x94)\\xd2\\xa39_\\x82\\x05\\x14P@\\x01\\x05\\x14P@\\x01\\x05|\\xb6\\xf1\\x1f\\xe6\\xb4\\x9f\\xba)\\xff\\x17\\x19\\x00\\x00\\x00\\x00IEND\\xaeB`\\x82'"
      ]
     },
     "execution_count": 29,
     "metadata": {},
     "output_type": "execute_result"
    }
   ],
   "source": [
    "request_image.content"
   ]
  },
  {
   "cell_type": "markdown",
   "id": "5f167bea-cdd3-4556-939e-044654a83de1",
   "metadata": {},
   "source": [
    "#### Probamos bajar la imagen:"
   ]
  },
  {
   "cell_type": "code",
   "execution_count": 30,
   "id": "7ec35a61-3c6a-415d-a135-0c2764dec902",
   "metadata": {
    "tags": []
   },
   "outputs": [],
   "source": [
    "nombre_imagen = deep_master_list[23000].split('/')[-2] + '-'+ deep_master_list[23000].split('/')[-1]\n",
    "with open(nombre_imagen,'wb') as file:\n",
    "    file.write(request_image.content)"
   ]
  },
  {
   "cell_type": "markdown",
   "id": "08d00374-8dfc-43f9-a730-6ff697a40a3e",
   "metadata": {},
   "source": [
    "#### Creamos el loop para bajar las imágenes:"
   ]
  },
  {
   "cell_type": "code",
   "execution_count": 32,
   "id": "7416375f-1523-4c84-9ef8-e381079fd5ed",
   "metadata": {
    "tags": []
   },
   "outputs": [],
   "source": [
    "for url_imagen in deep_master_list[0:10]:\n",
    "    nombre_imagen = url_imagen.split('/')[-2] + '-'+ url_imagen.split('/')[-1]\n",
    "    imagen = requests.get(url_imagen)\n",
    "    with open(nombre_imagen,'wb') as file:\n",
    "        file.write(imagen.content)"
   ]
  },
  {
   "cell_type": "markdown",
   "id": "82e58553-e2e9-485c-9d93-7dc3eb8b5a88",
   "metadata": {},
   "source": [
    "# Bien, trabajo hecho....."
   ]
  },
  {
   "cell_type": "code",
   "execution_count": null,
   "id": "144193dc-e4d4-4c36-a021-3c85feadb135",
   "metadata": {},
   "outputs": [],
   "source": []
  }
 ],
 "metadata": {
  "kernelspec": {
   "display_name": "Python 3 (ipykernel)",
   "language": "python",
   "name": "python3"
  },
  "language_info": {
   "codemirror_mode": {
    "name": "ipython",
    "version": 3
   },
   "file_extension": ".py",
   "mimetype": "text/x-python",
   "name": "python",
   "nbconvert_exporter": "python",
   "pygments_lexer": "ipython3",
   "version": "3.11.4"
  }
 },
 "nbformat": 4,
 "nbformat_minor": 5
}
