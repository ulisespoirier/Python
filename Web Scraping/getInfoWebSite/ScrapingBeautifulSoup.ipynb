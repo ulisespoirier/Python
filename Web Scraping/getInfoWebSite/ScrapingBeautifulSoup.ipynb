{
 "cells": [
  {
   "cell_type": "code",
   "execution_count": 4,
   "id": "4db6d888-365b-45a5-bcfb-6b359a16a64b",
   "metadata": {},
   "outputs": [],
   "source": [
    "import requests\n",
    "from bs4 import BeautifulSoup"
   ]
  },
  {
   "cell_type": "code",
   "execution_count": 5,
   "id": "092bb558-3819-4c5d-b271-9eab32e0c2b7",
   "metadata": {},
   "outputs": [],
   "source": [
    "url = 'https://12695.portal.athenahealth.com/'"
   ]
  },
  {
   "cell_type": "code",
   "execution_count": 6,
   "id": "bb26e240-5b99-498b-8890-d12026042868",
   "metadata": {},
   "outputs": [
    {
     "data": {
      "text/plain": [
       "'https://12695.portal.athenahealth.com/'"
      ]
     },
     "execution_count": 6,
     "metadata": {},
     "output_type": "execute_result"
    }
   ],
   "source": [
    "url"
   ]
  },
  {
   "cell_type": "code",
   "execution_count": 7,
   "id": "d05b99d1-879b-4695-8198-8d596daed72d",
   "metadata": {},
   "outputs": [],
   "source": [
    "response = requests.get(url)"
   ]
  },
  {
   "cell_type": "code",
   "execution_count": 8,
   "id": "e959873e-b119-4b85-b864-4041c0795e74",
   "metadata": {},
   "outputs": [
    {
     "data": {
      "text/plain": [
       "<Response [200]>"
      ]
     },
     "execution_count": 8,
     "metadata": {},
     "output_type": "execute_result"
    }
   ],
   "source": [
    "response"
   ]
  },
  {
   "cell_type": "code",
   "execution_count": 11,
   "id": "0f669604-cf6d-4de9-8ec3-8ffe961d77ed",
   "metadata": {},
   "outputs": [
    {
     "data": {
      "text/plain": [
       "str"
      ]
     },
     "execution_count": 11,
     "metadata": {},
     "output_type": "execute_result"
    }
   ],
   "source": [
    "type(response.text)\n"
   ]
  },
  {
   "cell_type": "code",
   "execution_count": 13,
   "id": "4e243c54-b6ea-403e-b280-ac23a923522b",
   "metadata": {},
   "outputs": [],
   "source": [
    "html = response.text"
   ]
  },
  {
   "cell_type": "code",
   "execution_count": 16,
   "id": "d750dadf-e1d9-437d-829c-527d6049280b",
   "metadata": {},
   "outputs": [],
   "source": [
    "soup = BeautifulSoup(html,'html.parser')"
   ]
  },
  {
   "cell_type": "code",
   "execution_count": 18,
   "id": "3276a017-3ab7-4a73-bd60-c1485d1a73b4",
   "metadata": {},
   "outputs": [
    {
     "data": {
      "text/plain": [
       "<title>\n",
       "\t\t\t\tPatient Portal\n",
       "\t\t</title>"
      ]
     },
     "execution_count": 18,
     "metadata": {},
     "output_type": "execute_result"
    }
   ],
   "source": [
    "soup.title"
   ]
  },
  {
   "cell_type": "code",
   "execution_count": 19,
   "id": "3d12a647-17a2-4a3c-a4bd-1d6b60a223d1",
   "metadata": {},
   "outputs": [
    {
     "data": {
      "text/plain": [
       "[<h1 class=\"fe_c_heading fe_c_heading--section supported_browser_centered_block\" id=\"fe-lightbox-labeledby-gen-1\">Please update your browser</h1>,\n",
       " <h1>Welcome to the Dr. Richard Handelsman \n",
       " \t\t\tPatient Information Center</h1>,\n",
       " <h1 align=\"center\">\n",
       " Dr. Richard Handelsman</h1>]"
      ]
     },
     "execution_count": 19,
     "metadata": {},
     "output_type": "execute_result"
    }
   ],
   "source": [
    "soup.find_all('h1')"
   ]
  },
  {
   "cell_type": "code",
   "execution_count": 28,
   "id": "d927e188-0416-4ff7-827c-c050a9aa30e9",
   "metadata": {},
   "outputs": [
    {
     "name": "stdout",
     "output_type": "stream",
     "text": [
      "Tipo:<class 'bs4.element.ResultSet'>, Largo:3\n"
     ]
    }
   ],
   "source": [
    "print(\"Tipo:\"+str(type(soup.find_all('h1')))+\", Largo:\"+str(len(soup.find_all('h1'))))"
   ]
  },
  {
   "cell_type": "code",
   "execution_count": 30,
   "id": "3c8eaed1-ac72-4216-b8b9-1b51969e9f8f",
   "metadata": {},
   "outputs": [
    {
     "data": {
      "text/plain": [
       "[<h1 class=\"fe_c_heading fe_c_heading--section supported_browser_centered_block\" id=\"fe-lightbox-labeledby-gen-1\">Please update your browser</h1>,\n",
       " <h1>Welcome to the Dr. Richard Handelsman \n",
       " \t\t\tPatient Information Center</h1>,\n",
       " <h1 align=\"center\">\n",
       " Dr. Richard Handelsman</h1>]"
      ]
     },
     "execution_count": 30,
     "metadata": {},
     "output_type": "execute_result"
    }
   ],
   "source": [
    "soup.find_all('h1')"
   ]
  },
  {
   "cell_type": "code",
   "execution_count": 31,
   "id": "b4cd101c-c362-49a2-aa55-7546c0f6f848",
   "metadata": {},
   "outputs": [
    {
     "data": {
      "text/plain": [
       "<h1 class=\"fe_c_heading fe_c_heading--section supported_browser_centered_block\" id=\"fe-lightbox-labeledby-gen-1\">Please update your browser</h1>"
      ]
     },
     "execution_count": 31,
     "metadata": {},
     "output_type": "execute_result"
    }
   ],
   "source": [
    "soup.find_all('h1')[0]"
   ]
  },
  {
   "cell_type": "code",
   "execution_count": 32,
   "id": "24c53418-733c-41c8-a2e9-62c72d6ee73e",
   "metadata": {},
   "outputs": [
    {
     "data": {
      "text/plain": [
       "<h1>Welcome to the Dr. Richard Handelsman \n",
       "\t\t\tPatient Information Center</h1>"
      ]
     },
     "execution_count": 32,
     "metadata": {},
     "output_type": "execute_result"
    }
   ],
   "source": [
    "soup.find_all('h1')[1]"
   ]
  },
  {
   "cell_type": "code",
   "execution_count": 33,
   "id": "9ff76bd2-91d6-4b5f-a26c-23e2d814ba8d",
   "metadata": {},
   "outputs": [
    {
     "data": {
      "text/plain": [
       "<h1 align=\"center\">\n",
       "Dr. Richard Handelsman</h1>"
      ]
     },
     "execution_count": 33,
     "metadata": {},
     "output_type": "execute_result"
    }
   ],
   "source": [
    "soup.find_all('h1')[2]"
   ]
  },
  {
   "cell_type": "code",
   "execution_count": 34,
   "id": "2514c996-548e-4070-a741-cfd1b08c532b",
   "metadata": {},
   "outputs": [
    {
     "data": {
      "text/plain": [
       "'\\nDr. Richard Handelsman'"
      ]
     },
     "execution_count": 34,
     "metadata": {},
     "output_type": "execute_result"
    }
   ],
   "source": [
    "soup.find_all('h1')[2].text"
   ]
  },
  {
   "cell_type": "code",
   "execution_count": 35,
   "id": "03d79786-e2e9-428d-af4b-af3d6274cfeb",
   "metadata": {},
   "outputs": [
    {
     "data": {
      "text/plain": [
       "'Dr. Richard Handelsman'"
      ]
     },
     "execution_count": 35,
     "metadata": {},
     "output_type": "execute_result"
    }
   ],
   "source": [
    "soup.find_all('h1')[2].text.strip()"
   ]
  },
  {
   "cell_type": "code",
   "execution_count": 55,
   "id": "3ea6bf05-6217-4712-891f-2a6e505506db",
   "metadata": {},
   "outputs": [],
   "source": [
    "def get_clinic_name(clinic_id):\n",
    "    url = f'https://{clinic_id}.portal.athenahealth.com/'\n",
    "    response = requests.get(url)\n",
    "    html = response.text\n",
    "    soup = BeautifulSoup(html,'html.parser')\n",
    "    clinic_name = soup.find_all('h1')[-1].text.strip()\n",
    "    return clinic_name\n",
    "    "
   ]
  },
  {
   "cell_type": "code",
   "execution_count": 57,
   "id": "7af428f3-e21d-4a4e-951f-1023d283949c",
   "metadata": {},
   "outputs": [
    {
     "data": {
      "text/plain": [
       "\"Sorry, we can't find that practice. Make sure you typed the right address.\""
      ]
     },
     "execution_count": 57,
     "metadata": {},
     "output_type": "execute_result"
    }
   ],
   "source": [
    "get_clinic_name(12698)"
   ]
  },
  {
   "cell_type": "code",
   "execution_count": 64,
   "id": "d1f7a34a-e83b-4d15-82f8-615dee98ccb6",
   "metadata": {},
   "outputs": [],
   "source": [
    "start = 12690\n",
    "end = 12700"
   ]
  },
  {
   "cell_type": "code",
   "execution_count": 67,
   "id": "46e94abf-dabb-474c-834f-e596fe9fcbe9",
   "metadata": {},
   "outputs": [
    {
     "name": "stdout",
     "output_type": "stream",
     "text": [
      "12690\n",
      "12691\n",
      "12692\n",
      "12693\n",
      "12694\n",
      "12695\n",
      "12696\n",
      "12697\n",
      "12698\n",
      "12699\n",
      "12700\n"
     ]
    }
   ],
   "source": [
    "master_list = []\n",
    "\n",
    "for clinic_id in range(start,end+1):\n",
    "    data_dict = {}\n",
    "    data_dict['clinic_id'] = clinic_id\n",
    "    data_dict['clinic_name'] = get_clinic_name(clinic_id)\n",
    "    if data_dict['clinic_name'] != \"Payment Confirmation\" and data_dict['clinic_name'] != \"Sorry, we can't find that practice. Make sure you typed the right address.\":\n",
    "        master_list.append(data_dict)\n",
    "    print(clinic_id)    "
   ]
  },
  {
   "cell_type": "code",
   "execution_count": 68,
   "id": "3ad0bee9-4e6a-48f6-80b5-8ac4956dde17",
   "metadata": {},
   "outputs": [
    {
     "data": {
      "text/plain": [
       "[{'clinic_id': 12691, 'clinic_name': 'Ergomedica'},\n",
       " {'clinic_id': 12693, 'clinic_name': 'Altamonte Family Practice'},\n",
       " {'clinic_id': 12694, 'clinic_name': 'Open Health Care Clinic'},\n",
       " {'clinic_id': 12695, 'clinic_name': 'Dr. Richard Handelsman'},\n",
       " {'clinic_id': 12696, 'clinic_name': \"Women's CenterforIntegrative Health\"},\n",
       " {'clinic_id': 12697, 'clinic_name': 'Eastern Urological Associates'}]"
      ]
     },
     "execution_count": 68,
     "metadata": {},
     "output_type": "execute_result"
    }
   ],
   "source": [
    "master_list"
   ]
  },
  {
   "cell_type": "code",
   "execution_count": 69,
   "id": "7d8d7a04-1180-4cf9-ab03-fc0658dc168c",
   "metadata": {},
   "outputs": [],
   "source": [
    "import pandas as pd"
   ]
  },
  {
   "cell_type": "code",
   "execution_count": 70,
   "id": "5b033198-d8fc-4443-b3ab-e8d9b1c63e13",
   "metadata": {},
   "outputs": [],
   "source": [
    "df = pd.DataFrame(master_list)"
   ]
  },
  {
   "cell_type": "code",
   "execution_count": 71,
   "id": "de47b19c-86c4-4e15-a3b8-efb4f07a5214",
   "metadata": {},
   "outputs": [
    {
     "data": {
      "text/html": [
       "<div>\n",
       "<style scoped>\n",
       "    .dataframe tbody tr th:only-of-type {\n",
       "        vertical-align: middle;\n",
       "    }\n",
       "\n",
       "    .dataframe tbody tr th {\n",
       "        vertical-align: top;\n",
       "    }\n",
       "\n",
       "    .dataframe thead th {\n",
       "        text-align: right;\n",
       "    }\n",
       "</style>\n",
       "<table border=\"1\" class=\"dataframe\">\n",
       "  <thead>\n",
       "    <tr style=\"text-align: right;\">\n",
       "      <th></th>\n",
       "      <th>clinic_id</th>\n",
       "      <th>clinic_name</th>\n",
       "    </tr>\n",
       "  </thead>\n",
       "  <tbody>\n",
       "    <tr>\n",
       "      <th>0</th>\n",
       "      <td>12691</td>\n",
       "      <td>Ergomedica</td>\n",
       "    </tr>\n",
       "    <tr>\n",
       "      <th>1</th>\n",
       "      <td>12693</td>\n",
       "      <td>Altamonte Family Practice</td>\n",
       "    </tr>\n",
       "    <tr>\n",
       "      <th>2</th>\n",
       "      <td>12694</td>\n",
       "      <td>Open Health Care Clinic</td>\n",
       "    </tr>\n",
       "    <tr>\n",
       "      <th>3</th>\n",
       "      <td>12695</td>\n",
       "      <td>Dr. Richard Handelsman</td>\n",
       "    </tr>\n",
       "    <tr>\n",
       "      <th>4</th>\n",
       "      <td>12696</td>\n",
       "      <td>Women's CenterforIntegrative Health</td>\n",
       "    </tr>\n",
       "    <tr>\n",
       "      <th>5</th>\n",
       "      <td>12697</td>\n",
       "      <td>Eastern Urological Associates</td>\n",
       "    </tr>\n",
       "  </tbody>\n",
       "</table>\n",
       "</div>"
      ],
      "text/plain": [
       "   clinic_id                          clinic_name\n",
       "0      12691                           Ergomedica\n",
       "1      12693            Altamonte Family Practice\n",
       "2      12694              Open Health Care Clinic\n",
       "3      12695               Dr. Richard Handelsman\n",
       "4      12696  Women's CenterforIntegrative Health\n",
       "5      12697        Eastern Urological Associates"
      ]
     },
     "execution_count": 71,
     "metadata": {},
     "output_type": "execute_result"
    }
   ],
   "source": [
    "df"
   ]
  },
  {
   "cell_type": "code",
   "execution_count": 72,
   "id": "8fa5538e-de26-47c1-a352-db03155f0f3c",
   "metadata": {},
   "outputs": [],
   "source": [
    "df.to_csv('file_name.csv')"
   ]
  },
  {
   "cell_type": "code",
   "execution_count": null,
   "id": "7fddf1ed-c178-4862-8edd-d3299ab7a7dc",
   "metadata": {},
   "outputs": [],
   "source": []
  }
 ],
 "metadata": {
  "kernelspec": {
   "display_name": "Python 3 (ipykernel)",
   "language": "python",
   "name": "python3"
  },
  "language_info": {
   "codemirror_mode": {
    "name": "ipython",
    "version": 3
   },
   "file_extension": ".py",
   "mimetype": "text/x-python",
   "name": "python",
   "nbconvert_exporter": "python",
   "pygments_lexer": "ipython3",
   "version": "3.11.4"
  }
 },
 "nbformat": 4,
 "nbformat_minor": 5
}
