{
 "cells": [
  {
   "cell_type": "markdown",
   "id": "b57593e4-2b06-48fb-a5fa-605f30e36cfe",
   "metadata": {},
   "source": [
    "# Crear documentos PDF"
   ]
  },
  {
   "cell_type": "markdown",
   "id": "7f9adb02-e147-4f24-a037-f82814978f41",
   "metadata": {},
   "source": [
    "## Usaremos FPDF, que es uno de los paquetes más versátiles e intuitivos que se utilizan para generar PDF en Python."
   ]
  },
  {
   "cell_type": "markdown",
   "id": "13c6d27c-35e7-4450-8dbc-f5341a679260",
   "metadata": {},
   "source": [
    "### Lo primero es instalar la librería"
   ]
  },
  {
   "cell_type": "code",
   "execution_count": 1,
   "id": "1936d002-1b63-4bd7-96bc-cc792d25d399",
   "metadata": {},
   "outputs": [
    {
     "name": "stdout",
     "output_type": "stream",
     "text": [
      "Requirement already satisfied: FPDF in c:\\users\\ulise\\anaconda3\\lib\\site-packages (1.7.2)\n",
      "Note: you may need to restart the kernel to use updated packages.\n"
     ]
    }
   ],
   "source": [
    "pip install FPDF"
   ]
  },
  {
   "cell_type": "markdown",
   "id": "9342fcf8-1825-4455-ac2c-9fe304d6b43a",
   "metadata": {},
   "source": [
    "### Luego, debemos importar las bibliotecas que usaremos para renderizar nuestro documento:"
   ]
  },
  {
   "cell_type": "code",
   "execution_count": null,
   "id": "84d4fbec-9ba6-4a04-a3fd-1a87f4af039b",
   "metadata": {},
   "outputs": [],
   "source": [
    "import numpy as np\n",
    "import pandas as pd\n",
    "from fpdf import FPDF\n",
    "import matplotlib as mpl\n",
    "import matplotlib.pyplot as plt\n",
    "from matplotlib.ticker import ScalarFormatter "
   ]
  },
  {
   "cell_type": "markdown",
   "id": "a364351a-903f-4830-b1d8-f4ba2122f420",
   "metadata": {},
   "source": [
    "### Posteriormente procedemos con la creación de la primera página del documento PDF, configurando la fuente con su tamaño y color:"
   ]
  },
  {
   "cell_type": "code",
   "execution_count": 31,
   "id": "f4b8f7f5-cf86-4875-ba3b-0ef622fa1121",
   "metadata": {},
   "outputs": [],
   "source": [
    "pdf = FPDF(orientation='P', unit='mm', format ='A4') # Configuramos las características principales del documento.\n",
    "pdf.add_page() # Agregamos la primera página donde coloczr el contenido deseado.\n",
    "pdf.set_font('Arial','',10) # Definimos el tipo de letra.\n",
    "# Ahora generamos un contenido de texto estático:\n",
    "pdf.write(5,'Esta es la primera línea de nuestro documento')\n",
    "pdf.ln(h='') # Se genera un salto de línea, según parámetro.\n",
    "pdf.write(5, 'No es muy interesante generar contenido estático, pero esta es la forma de hacerlo.')\n",
    "# Ahora escribiremos varias líneas más abajo, aumentando el tamaño de la letra y su color:\n",
    "pdf.ln(h=20)\n",
    "pdf.set_font('Arial','',45)\n",
    "pdf.set_text_color(0, 0, 192)\n",
    "pdf.write(10, 'Este texto es de letra más grande y de color modificado')\n",
    "# Volvemos modificar el solor, pero esta vez el texto está en negrilla \n",
    "pdf.set_text_color(192, 0, 0)\n",
    "pdf.set_font('Arial','B',22)\n",
    "pdf.ln(h=20)\n",
    "pdf.write(10, 'Este texto ahora está en negrilla y de tamaño intermedio')\n",
    "pdf.line(5, 80, 210, 80) # Dibujamos una línea antre dos puntos\n",
    "pdf.dashed_line(5, 90, 210, 90, 1,1) # Puede ser segmentada\n",
    "pdf.set_font('Arial','U',45) # También podemos subrayar el texto\n",
    "pdf.ln(h=15)\n",
    "pdf.write(10, 'Este es un texto subrayado')\n",
    "pdf.set_font('Arial','I',45)\n",
    "pdf.ln(h=40)\n",
    "pdf.write(10, 'Texto itálico')\n",
    "# Finalmente grabamos nuestro documento\n",
    "pdf.output('miPrimerPDFconPython.pdf', 'F')\n",
    "pdf.close()"
   ]
  },
  {
   "cell_type": "markdown",
   "id": "2c7bb3be-2067-4922-ad1c-4966a5487eec",
   "metadata": {},
   "source": [
    "### Insertar una imagen de fondo y complementarla con texto"
   ]
  },
  {
   "cell_type": "code",
   "execution_count": 15,
   "id": "962159fa-e60e-4cc7-b7a1-37f8aa9ff4e7",
   "metadata": {},
   "outputs": [],
   "source": [
    "pdf = FPDF(orientation='P', unit='mm', format ='A4')\n",
    "pdf.add_page()\n",
    "pdf.image('C:\\\\Users\\\\ulise\\\\Python\\\\Cómo generar PDF\\\\page.png', x = 0, y = 0, w = 210, h = 297)\n",
    "# Agregamos texto sobre la imagen\n",
    "pdf.set_font('Arial','',10) # Definimos el tipo de letra.\n",
    "pdf.write(10,'Esta es la primera línea de nuestro documento') # Poca versatilidad sino solo elegir la fila \n",
    "pdf.text(100, 50, 'Esta es la segunda línea de nuestro documento')  # Mayor control sobre el texto a escribir\n",
    "pdf.set_xy(100, 100) # Este es el método más adecuado para alinear o centrar texto variable o dinámico.\n",
    "pdf.cell(50, 10, 'Este es un texto particular, colocado dentro de una celda', 1, 1, 'C') # Por medio de alinear una celda con el respectivo texto.\n",
    "pdf.output('miSegundoPDFconPython.pdf', 'F')\n",
    "pdf.close()"
   ]
  },
  {
   "cell_type": "code",
   "execution_count": null,
   "id": "594134d0-0b00-43b1-a161-b3b42847307d",
   "metadata": {},
   "outputs": [],
   "source": []
  }
 ],
 "metadata": {
  "kernelspec": {
   "display_name": "Python 3",
   "language": "python",
   "name": "python3"
  },
  "language_info": {
   "codemirror_mode": {
    "name": "ipython",
    "version": 3
   },
   "file_extension": ".py",
   "mimetype": "text/x-python",
   "name": "python",
   "nbconvert_exporter": "python",
   "pygments_lexer": "ipython3",
   "version": "3.8.8"
  }
 },
 "nbformat": 4,
 "nbformat_minor": 5
}
