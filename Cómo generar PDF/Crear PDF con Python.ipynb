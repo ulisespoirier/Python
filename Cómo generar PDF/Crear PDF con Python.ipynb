{
 "cells": [
  {
   "cell_type": "markdown",
   "id": "b57593e4-2b06-48fb-a5fa-605f30e36cfe",
   "metadata": {},
   "source": [
    "# Crear documentos PDF"
   ]
  },
  {
   "cell_type": "markdown",
   "id": "7f9adb02-e147-4f24-a037-f82814978f41",
   "metadata": {},
   "source": [
    "## Usaremos FPDF, que es uno de los paquetes más versátiles e intuitivos que se utilizan para generar PDF en Python."
   ]
  },
  {
   "cell_type": "markdown",
   "id": "13c6d27c-35e7-4450-8dbc-f5341a679260",
   "metadata": {},
   "source": [
    "### Lo primero es instalar la librería"
   ]
  },
  {
   "cell_type": "code",
   "execution_count": 1,
   "id": "1936d002-1b63-4bd7-96bc-cc792d25d399",
   "metadata": {},
   "outputs": [
    {
     "name": "stdout",
     "output_type": "stream",
     "text": [
      "Requirement already satisfied: FPDF in c:\\users\\ulise\\anaconda3\\lib\\site-packages (1.7.2)\n",
      "Note: you may need to restart the kernel to use updated packages.\n"
     ]
    }
   ],
   "source": [
    "pip install FPDF"
   ]
  },
  {
   "cell_type": "markdown",
   "id": "9342fcf8-1825-4455-ac2c-9fe304d6b43a",
   "metadata": {},
   "source": [
    "### Luego, debemos importar las bibliotecas que usaremos para renderizar nuestro documento:"
   ]
  },
  {
   "cell_type": "code",
   "execution_count": 1,
   "id": "84d4fbec-9ba6-4a04-a3fd-1a87f4af039b",
   "metadata": {},
   "outputs": [],
   "source": [
    "import numpy as np\n",
    "\n",
    "from fpdf import FPDF"
   ]
  },
  {
   "cell_type": "markdown",
   "id": "a364351a-903f-4830-b1d8-f4ba2122f420",
   "metadata": {},
   "source": [
    "### Posteriormente procedemos con la creación de la primera página del documento PDF, configurando la fuente con su tamaño y color:"
   ]
  },
  {
   "cell_type": "code",
   "execution_count": 2,
   "id": "f4b8f7f5-cf86-4875-ba3b-0ef622fa1121",
   "metadata": {},
   "outputs": [],
   "source": [
    "pdf = FPDF(orientation='P', unit='mm', format ='A4') # Configuramos las características principales del documento.\n",
    "pdf.add_page() # Agregamos la primera página donde coloczr el contenido deseado.\n",
    "pdf.set_font('Arial','',10) # Definimos el tipo de letra.\n",
    "# Ahora generamos un contenido de texto estático:\n",
    "pdf.write(5,'Esta es la primera línea de nuestro documento')\n",
    "pdf.ln(h='') # Se genera un salto de línea, según parámetro.\n",
    "pdf.write(5, 'No es muy interesante generar contenido estático, pero esta es la forma de hacerlo.')\n",
    "# Ahora escribiremos varias líneas más abajo, aumentando el tamaño de la letra y su color:\n",
    "pdf.ln(h=20)\n",
    "pdf.set_font('Arial','',45)\n",
    "pdf.set_text_color(0, 0, 192)\n",
    "pdf.write(10, 'Este texto es de letra más grande y de color modificado')\n",
    "# Volvemos modificar el solor, pero esta vez el texto está en negrilla \n",
    "pdf.set_text_color(192, 0, 0)\n",
    "pdf.set_font('Arial','B',22)\n",
    "pdf.ln(h=20)\n",
    "pdf.write(10, 'Este texto ahora está en negrilla y de tamaño intermedio')\n",
    "pdf.line(5, 80, 210, 80) # Dibujamos una línea antre dos puntos\n",
    "pdf.dashed_line(5, 90, 210, 90, 1,1) # Puede ser segmentada\n",
    "pdf.set_font('Arial','U',45) # También podemos subrayar el texto\n",
    "pdf.ln(h=15)\n",
    "pdf.write(10, 'Este es un texto subrayado')\n",
    "pdf.set_font('Arial','I',45)\n",
    "pdf.ln(h=40)\n",
    "pdf.write(10, 'Texto itálico')\n",
    "# Finalmente grabamos nuestro documento\n",
    "pdf.output('miPrimerPDFconPython.pdf', 'F')\n",
    "pdf.close()"
   ]
  },
  {
   "cell_type": "markdown",
   "id": "2c7bb3be-2067-4922-ad1c-4966a5487eec",
   "metadata": {},
   "source": [
    "### Insertar una imagen de fondo y complementarla con texto"
   ]
  },
  {
   "cell_type": "code",
   "execution_count": 3,
   "id": "962159fa-e60e-4cc7-b7a1-37f8aa9ff4e7",
   "metadata": {},
   "outputs": [],
   "source": [
    "pdf = FPDF(orientation='P', unit='mm', format ='A4')\n",
    "pdf.add_page()\n",
    "pdf.image('C:\\\\Users\\\\ulise\\\\Python\\\\Cómo generar PDF\\\\page.png', x = 0, y = 0, w = 210, h = 297)\n",
    "# Agregamos texto sobre la imagen\n",
    "pdf.set_font('Arial','',10) # Definimos el tipo de letra.\n",
    "pdf.write(10,'Esta es la primera línea de nuestro documento') # Poca versatilidad sino solo elegir la fila \n",
    "pdf.text(100, 50, 'Esta es la segunda línea de nuestro documento')  # Mayor control sobre el texto a escribir\n",
    "pdf.set_xy(100, 100) # Este es el método más adecuado para alinear o centrar texto variable o dinámico.\n",
    "pdf.cell(50, 10, 'Este es un texto particular, colocado dentro de una celda', 1, 1, 'C') # Por medio de alinear una celda con el respectivo texto.\n",
    "pdf.output('miSegundoPDFconPython.pdf', 'F')\n",
    "pdf.close()"
   ]
  },
  {
   "cell_type": "markdown",
   "id": "01d020c9-61ac-40e0-ad8c-9735c4b5938d",
   "metadata": {},
   "source": [
    "### Insertar un gráfico a partir de data variable"
   ]
  },
  {
   "cell_type": "markdown",
   "id": "b01fd369-2f37-46bf-a61d-b23c433dcc24",
   "metadata": {},
   "source": [
    "#### Primero creamos algunos gráficos a partir de pandas, una de las librerías más estándar que se utiliza para el análisis de datos en Python, para luego insertarlas en nuestro documento PDF."
   ]
  },
  {
   "cell_type": "code",
   "execution_count": 4,
   "id": "e13f6b46-a5b2-4f19-9ba5-704483b9b93b",
   "metadata": {},
   "outputs": [],
   "source": [
    "import pandas as pd"
   ]
  },
  {
   "cell_type": "code",
   "execution_count": 5,
   "id": "f0cae54b-eafc-44ae-9ca1-94d88b87381e",
   "metadata": {},
   "outputs": [],
   "source": [
    "marvel_data = [\n",
    "    ['Spider-Man', 'male', 1962],\n",
    "    ['Captain America', 'male', 1941],\n",
    "    ['Wolverine', 'male', 1974],\n",
    "    ['Iron Man', 'male', 1963],\n",
    "    ['Thor', 'male', 1963],\n",
    "    ['Thing', 'male', 1961],\n",
    "    ['Mister Fantastic', 'male', 1961],\n",
    "    ['Hulk', 'male', 1962],\n",
    "    ['Beast', 'male', 1963],\n",
    "    ['Invisible Woman', 'female', 1961],\n",
    "    ['Storm', 'female', 1975],\n",
    "    ['Namor', 'male', 1939],\n",
    "    ['Hawkeye', 'male', 1964],\n",
    "    ['Daredevil', 'male', 1964],\n",
    "    ['Doctor Strange', 'male', 1963],\n",
    "    ['Hank Pym', 'male', 1962],\n",
    "    ['Scarlet Witch', 'female', 1964],\n",
    "    ['Wasp', 'female', 1963],\n",
    "    ['Black Widow', 'female', 1964],\n",
    "    ['Vision', 'male', 1968]\n",
    "]\n",
    "\n",
    "marvel_df = pd.DataFrame(data=marvel_data)"
   ]
  },
  {
   "cell_type": "code",
   "execution_count": 6,
   "id": "d34ae4f9-bb81-41f7-ba34-05c93139dcdb",
   "metadata": {},
   "outputs": [
    {
     "data": {
      "text/html": [
       "<div>\n",
       "<style scoped>\n",
       "    .dataframe tbody tr th:only-of-type {\n",
       "        vertical-align: middle;\n",
       "    }\n",
       "\n",
       "    .dataframe tbody tr th {\n",
       "        vertical-align: top;\n",
       "    }\n",
       "\n",
       "    .dataframe thead th {\n",
       "        text-align: right;\n",
       "    }\n",
       "</style>\n",
       "<table border=\"1\" class=\"dataframe\">\n",
       "  <thead>\n",
       "    <tr style=\"text-align: right;\">\n",
       "      <th></th>\n",
       "      <th>0</th>\n",
       "      <th>1</th>\n",
       "      <th>2</th>\n",
       "    </tr>\n",
       "  </thead>\n",
       "  <tbody>\n",
       "    <tr>\n",
       "      <th>0</th>\n",
       "      <td>Spider-Man</td>\n",
       "      <td>male</td>\n",
       "      <td>1962</td>\n",
       "    </tr>\n",
       "    <tr>\n",
       "      <th>1</th>\n",
       "      <td>Captain America</td>\n",
       "      <td>male</td>\n",
       "      <td>1941</td>\n",
       "    </tr>\n",
       "    <tr>\n",
       "      <th>2</th>\n",
       "      <td>Wolverine</td>\n",
       "      <td>male</td>\n",
       "      <td>1974</td>\n",
       "    </tr>\n",
       "    <tr>\n",
       "      <th>3</th>\n",
       "      <td>Iron Man</td>\n",
       "      <td>male</td>\n",
       "      <td>1963</td>\n",
       "    </tr>\n",
       "    <tr>\n",
       "      <th>4</th>\n",
       "      <td>Thor</td>\n",
       "      <td>male</td>\n",
       "      <td>1963</td>\n",
       "    </tr>\n",
       "    <tr>\n",
       "      <th>5</th>\n",
       "      <td>Thing</td>\n",
       "      <td>male</td>\n",
       "      <td>1961</td>\n",
       "    </tr>\n",
       "    <tr>\n",
       "      <th>6</th>\n",
       "      <td>Mister Fantastic</td>\n",
       "      <td>male</td>\n",
       "      <td>1961</td>\n",
       "    </tr>\n",
       "    <tr>\n",
       "      <th>7</th>\n",
       "      <td>Hulk</td>\n",
       "      <td>male</td>\n",
       "      <td>1962</td>\n",
       "    </tr>\n",
       "    <tr>\n",
       "      <th>8</th>\n",
       "      <td>Beast</td>\n",
       "      <td>male</td>\n",
       "      <td>1963</td>\n",
       "    </tr>\n",
       "    <tr>\n",
       "      <th>9</th>\n",
       "      <td>Invisible Woman</td>\n",
       "      <td>female</td>\n",
       "      <td>1961</td>\n",
       "    </tr>\n",
       "    <tr>\n",
       "      <th>10</th>\n",
       "      <td>Storm</td>\n",
       "      <td>female</td>\n",
       "      <td>1975</td>\n",
       "    </tr>\n",
       "    <tr>\n",
       "      <th>11</th>\n",
       "      <td>Namor</td>\n",
       "      <td>male</td>\n",
       "      <td>1939</td>\n",
       "    </tr>\n",
       "    <tr>\n",
       "      <th>12</th>\n",
       "      <td>Hawkeye</td>\n",
       "      <td>male</td>\n",
       "      <td>1964</td>\n",
       "    </tr>\n",
       "    <tr>\n",
       "      <th>13</th>\n",
       "      <td>Daredevil</td>\n",
       "      <td>male</td>\n",
       "      <td>1964</td>\n",
       "    </tr>\n",
       "    <tr>\n",
       "      <th>14</th>\n",
       "      <td>Doctor Strange</td>\n",
       "      <td>male</td>\n",
       "      <td>1963</td>\n",
       "    </tr>\n",
       "    <tr>\n",
       "      <th>15</th>\n",
       "      <td>Hank Pym</td>\n",
       "      <td>male</td>\n",
       "      <td>1962</td>\n",
       "    </tr>\n",
       "    <tr>\n",
       "      <th>16</th>\n",
       "      <td>Scarlet Witch</td>\n",
       "      <td>female</td>\n",
       "      <td>1964</td>\n",
       "    </tr>\n",
       "    <tr>\n",
       "      <th>17</th>\n",
       "      <td>Wasp</td>\n",
       "      <td>female</td>\n",
       "      <td>1963</td>\n",
       "    </tr>\n",
       "    <tr>\n",
       "      <th>18</th>\n",
       "      <td>Black Widow</td>\n",
       "      <td>female</td>\n",
       "      <td>1964</td>\n",
       "    </tr>\n",
       "    <tr>\n",
       "      <th>19</th>\n",
       "      <td>Vision</td>\n",
       "      <td>male</td>\n",
       "      <td>1968</td>\n",
       "    </tr>\n",
       "  </tbody>\n",
       "</table>\n",
       "</div>"
      ],
      "text/plain": [
       "                   0       1     2\n",
       "0         Spider-Man    male  1962\n",
       "1    Captain America    male  1941\n",
       "2          Wolverine    male  1974\n",
       "3           Iron Man    male  1963\n",
       "4               Thor    male  1963\n",
       "5              Thing    male  1961\n",
       "6   Mister Fantastic    male  1961\n",
       "7               Hulk    male  1962\n",
       "8              Beast    male  1963\n",
       "9    Invisible Woman  female  1961\n",
       "10             Storm  female  1975\n",
       "11             Namor    male  1939\n",
       "12           Hawkeye    male  1964\n",
       "13         Daredevil    male  1964\n",
       "14    Doctor Strange    male  1963\n",
       "15          Hank Pym    male  1962\n",
       "16     Scarlet Witch  female  1964\n",
       "17              Wasp  female  1963\n",
       "18       Black Widow  female  1964\n",
       "19            Vision    male  1968"
      ]
     },
     "execution_count": 6,
     "metadata": {},
     "output_type": "execute_result"
    }
   ],
   "source": [
    "marvel_df"
   ]
  },
  {
   "cell_type": "code",
   "execution_count": 7,
   "id": "328d299d-20af-4abf-8733-4d88a310680e",
   "metadata": {},
   "outputs": [
    {
     "data": {
      "text/plain": [
       "<AxesSubplot:>"
      ]
     },
     "execution_count": 7,
     "metadata": {},
     "output_type": "execute_result"
    },
    {
     "data": {
      "image/png": "[encoded data removed]",
      "text/plain": [
       "<Figure size 432x288 with 1 Axes>"
      ]
     },
     "metadata": {
      "needs_background": "light"
     },
     "output_type": "display_data"
    }
   ],
   "source": [
    "marvel_df.columns = ['Nombre','Género','Año']\n",
    "marvel_df.Año.plot()"
   ]
  },
  {
   "cell_type": "markdown",
   "id": "5b117043-a270-4b2c-8215-2ed89b9d9000",
   "metadata": {},
   "source": [
    "#### Primero grabaremos directamente la imagen antes generada directamente desde pandas utilizando la librería \"dataframe-image\""
   ]
  },
  {
   "cell_type": "code",
   "execution_count": 14,
   "id": "477cb186-881f-4433-aedf-1dd4b868107a",
   "metadata": {},
   "outputs": [
    {
     "name": "stdout",
     "output_type": "stream",
     "text": [
      "Collecting dataframe-imageNote: you may need to restart the kernel to use updated packages.\n",
      "\n",
      "  Downloading dataframe_image-0.1.1-py3-none-any.whl (32 kB)\n",
      "Requirement already satisfied: requests in c:\\users\\ulise\\anaconda3\\lib\\site-packages (from dataframe-image) (2.25.1)\n",
      "Requirement already satisfied: pandas>=0.24 in c:\\users\\ulise\\anaconda3\\lib\\site-packages (from dataframe-image) (1.2.4)\n",
      "Requirement already satisfied: beautifulsoup4 in c:\\users\\ulise\\anaconda3\\lib\\site-packages (from dataframe-image) (4.9.3)\n",
      "Requirement already satisfied: matplotlib>=3.1 in c:\\users\\ulise\\anaconda3\\lib\\site-packages (from dataframe-image) (3.3.4)\n",
      "Collecting aiohttp\n",
      "  Downloading aiohttp-3.8.1-cp38-cp38-win_amd64.whl (555 kB)\n",
      "Requirement already satisfied: nbconvert>=5 in c:\\users\\ulise\\anaconda3\\lib\\site-packages (from dataframe-image) (6.0.7)\n",
      "Requirement already satisfied: pillow>=6.2.0 in c:\\users\\ulise\\anaconda3\\lib\\site-packages (from matplotlib>=3.1->dataframe-image) (8.2.0)\n",
      "Requirement already satisfied: python-dateutil>=2.1 in c:\\users\\ulise\\anaconda3\\lib\\site-packages (from matplotlib>=3.1->dataframe-image) (2.8.1)\n",
      "Requirement already satisfied: cycler>=0.10 in c:\\users\\ulise\\anaconda3\\lib\\site-packages (from matplotlib>=3.1->dataframe-image) (0.10.0)\n",
      "Requirement already satisfied: kiwisolver>=1.0.1 in c:\\users\\ulise\\anaconda3\\lib\\site-packages (from matplotlib>=3.1->dataframe-image) (1.3.1)\n",
      "Requirement already satisfied: pyparsing!=2.0.4,!=2.1.2,!=2.1.6,>=2.0.3 in c:\\users\\ulise\\anaconda3\\lib\\site-packages (from matplotlib>=3.1->dataframe-image) (2.4.7)\n",
      "Requirement already satisfied: numpy>=1.15 in c:\\users\\ulise\\anaconda3\\lib\\site-packages (from matplotlib>=3.1->dataframe-image) (1.20.1)\n",
      "Requirement already satisfied: six in c:\\users\\ulise\\anaconda3\\lib\\site-packages (from cycler>=0.10->matplotlib>=3.1->dataframe-image) (1.15.0)\n",
      "Requirement already satisfied: mistune<2,>=0.8.1 in c:\\users\\ulise\\anaconda3\\lib\\site-packages (from nbconvert>=5->dataframe-image) (0.8.4)\n",
      "Requirement already satisfied: jupyterlab-pygments in c:\\users\\ulise\\anaconda3\\lib\\site-packages (from nbconvert>=5->dataframe-image) (0.1.2)\n",
      "Requirement already satisfied: pygments>=2.4.1 in c:\\users\\ulise\\anaconda3\\lib\\site-packages (from nbconvert>=5->dataframe-image) (2.8.1)\n",
      "Requirement already satisfied: bleach in c:\\users\\ulise\\anaconda3\\lib\\site-packages (from nbconvert>=5->dataframe-image) (3.3.0)\n",
      "Requirement already satisfied: entrypoints>=0.2.2 in c:\\users\\ulise\\anaconda3\\lib\\site-packages (from nbconvert>=5->dataframe-image) (0.3)\n",
      "Requirement already satisfied: pandocfilters>=1.4.1 in c:\\users\\ulise\\anaconda3\\lib\\site-packages (from nbconvert>=5->dataframe-image) (1.4.3)\n",
      "Requirement already satisfied: testpath in c:\\users\\ulise\\anaconda3\\lib\\site-packages (from nbconvert>=5->dataframe-image) (0.4.4)\n",
      "Requirement already satisfied: jupyter-core in c:\\users\\ulise\\anaconda3\\lib\\site-packages (from nbconvert>=5->dataframe-image) (4.7.1)\n",
      "Requirement already satisfied: defusedxml in c:\\users\\ulise\\anaconda3\\lib\\site-packages (from nbconvert>=5->dataframe-image) (0.7.1)\n",
      "Requirement already satisfied: nbformat>=4.4 in c:\\users\\ulise\\anaconda3\\lib\\site-packages (from nbconvert>=5->dataframe-image) (5.1.3)\n",
      "Requirement already satisfied: traitlets>=4.2 in c:\\users\\ulise\\anaconda3\\lib\\site-packages (from nbconvert>=5->dataframe-image) (5.0.5)\n",
      "Requirement already satisfied: jinja2>=2.4 in c:\\users\\ulise\\anaconda3\\lib\\site-packages (from nbconvert>=5->dataframe-image) (2.11.3)\n",
      "Requirement already satisfied: nbclient<0.6.0,>=0.5.0 in c:\\users\\ulise\\anaconda3\\lib\\site-packages (from nbconvert>=5->dataframe-image) (0.5.3)\n",
      "Requirement already satisfied: MarkupSafe>=0.23 in c:\\users\\ulise\\anaconda3\\lib\\site-packages (from jinja2>=2.4->nbconvert>=5->dataframe-image) (1.1.1)\n",
      "Requirement already satisfied: jupyter-client>=6.1.5 in c:\\users\\ulise\\anaconda3\\lib\\site-packages (from nbclient<0.6.0,>=0.5.0->nbconvert>=5->dataframe-image) (6.1.12)\n",
      "Requirement already satisfied: async-generator in c:\\users\\ulise\\anaconda3\\lib\\site-packages (from nbclient<0.6.0,>=0.5.0->nbconvert>=5->dataframe-image) (1.10)\n",
      "Requirement already satisfied: nest-asyncio in c:\\users\\ulise\\anaconda3\\lib\\site-packages (from nbclient<0.6.0,>=0.5.0->nbconvert>=5->dataframe-image) (1.5.1)\n",
      "Requirement already satisfied: tornado>=4.1 in c:\\users\\ulise\\anaconda3\\lib\\site-packages (from jupyter-client>=6.1.5->nbclient<0.6.0,>=0.5.0->nbconvert>=5->dataframe-image) (6.1)\n",
      "Requirement already satisfied: pyzmq>=13 in c:\\users\\ulise\\anaconda3\\lib\\site-packages (from jupyter-client>=6.1.5->nbclient<0.6.0,>=0.5.0->nbconvert>=5->dataframe-image) (20.0.0)\n",
      "Requirement already satisfied: pywin32>=1.0 in c:\\users\\ulise\\anaconda3\\lib\\site-packages (from jupyter-core->nbconvert>=5->dataframe-image) (227)\n",
      "Requirement already satisfied: jsonschema!=2.5.0,>=2.4 in c:\\users\\ulise\\anaconda3\\lib\\site-packages (from nbformat>=4.4->nbconvert>=5->dataframe-image) (3.2.0)\n",
      "Requirement already satisfied: ipython-genutils in c:\\users\\ulise\\anaconda3\\lib\\site-packages (from nbformat>=4.4->nbconvert>=5->dataframe-image) (0.2.0)\n",
      "Requirement already satisfied: pyrsistent>=0.14.0 in c:\\users\\ulise\\anaconda3\\lib\\site-packages (from jsonschema!=2.5.0,>=2.4->nbformat>=4.4->nbconvert>=5->dataframe-image) (0.17.3)\n",
      "Requirement already satisfied: setuptools in c:\\users\\ulise\\anaconda3\\lib\\site-packages (from jsonschema!=2.5.0,>=2.4->nbformat>=4.4->nbconvert>=5->dataframe-image) (52.0.0.post20210125)\n",
      "Requirement already satisfied: attrs>=17.4.0 in c:\\users\\ulise\\anaconda3\\lib\\site-packages (from jsonschema!=2.5.0,>=2.4->nbformat>=4.4->nbconvert>=5->dataframe-image) (20.3.0)\n",
      "Requirement already satisfied: pytz>=2017.3 in c:\\users\\ulise\\anaconda3\\lib\\site-packages (from pandas>=0.24->dataframe-image) (2021.1)\n",
      "Collecting yarl<2.0,>=1.0\n",
      "  Downloading yarl-1.7.2-cp38-cp38-win_amd64.whl (122 kB)\n",
      "Collecting frozenlist>=1.1.1\n",
      "  Downloading frozenlist-1.3.0-cp38-cp38-win_amd64.whl (33 kB)\n",
      "Collecting charset-normalizer<3.0,>=2.0\n",
      "  Downloading charset_normalizer-2.0.12-py3-none-any.whl (39 kB)\n",
      "Collecting async-timeout<5.0,>=4.0.0a3\n",
      "  Downloading async_timeout-4.0.2-py3-none-any.whl (5.8 kB)\n",
      "Collecting aiosignal>=1.1.2\n",
      "  Downloading aiosignal-1.2.0-py3-none-any.whl (8.2 kB)\n",
      "Collecting multidict<7.0,>=4.5\n",
      "  Downloading multidict-6.0.2-cp38-cp38-win_amd64.whl (28 kB)\n",
      "Requirement already satisfied: idna>=2.0 in c:\\users\\ulise\\anaconda3\\lib\\site-packages (from yarl<2.0,>=1.0->aiohttp->dataframe-image) (2.10)\n",
      "Requirement already satisfied: soupsieve>1.2 in c:\\users\\ulise\\anaconda3\\lib\\site-packages (from beautifulsoup4->dataframe-image) (2.2.1)\n",
      "Requirement already satisfied: webencodings in c:\\users\\ulise\\anaconda3\\lib\\site-packages (from bleach->nbconvert>=5->dataframe-image) (0.5.1)\n",
      "Requirement already satisfied: packaging in c:\\users\\ulise\\anaconda3\\lib\\site-packages (from bleach->nbconvert>=5->dataframe-image) (20.9)\n",
      "Requirement already satisfied: urllib3<1.27,>=1.21.1 in c:\\users\\ulise\\anaconda3\\lib\\site-packages (from requests->dataframe-image) (1.26.4)\n",
      "Requirement already satisfied: chardet<5,>=3.0.2 in c:\\users\\ulise\\anaconda3\\lib\\site-packages (from requests->dataframe-image) (4.0.0)\n",
      "Requirement already satisfied: certifi>=2017.4.17 in c:\\users\\ulise\\anaconda3\\lib\\site-packages (from requests->dataframe-image) (2020.12.5)\n",
      "Installing collected packages: multidict, frozenlist, yarl, charset-normalizer, async-timeout, aiosignal, aiohttp, dataframe-image\n",
      "Successfully installed aiohttp-3.8.1 aiosignal-1.2.0 async-timeout-4.0.2 charset-normalizer-2.0.12 dataframe-image-0.1.1 frozenlist-1.3.0 multidict-6.0.2 yarl-1.7.2\n"
     ]
    }
   ],
   "source": [
    "pip install dataframe-image"
   ]
  },
  {
   "cell_type": "code",
   "execution_count": 8,
   "id": "d11c28a4-7fb8-4c43-8d24-2b0533c3d1b6",
   "metadata": {},
   "outputs": [],
   "source": [
    "import pandas as pd\n",
    "import dataframe_image as dfi\n",
    " \n",
    "dfi.export(marvel_df,'imagen_del_dataframe.png')"
   ]
  },
  {
   "cell_type": "code",
   "execution_count": 9,
   "id": "08406846-d7c6-4aa1-ad85-00fa696706c2",
   "metadata": {},
   "outputs": [
    {
     "ename": "AttributeError",
     "evalue": "'AxesSubplot' object has no attribute 'shape'",
     "output_type": "error",
     "traceback": [
      "\u001b[1;31m---------------------------------------------------------------------------\u001b[0m",
      "\u001b[1;31mAttributeError\u001b[0m                            Traceback (most recent call last)",
      "\u001b[1;32m<ipython-input-9-aba0f29237dd>\u001b[0m in \u001b[0;36m<module>\u001b[1;34m\u001b[0m\n\u001b[1;32m----> 1\u001b[1;33m \u001b[0mdfi\u001b[0m\u001b[1;33m.\u001b[0m\u001b[0mexport\u001b[0m\u001b[1;33m(\u001b[0m\u001b[0mmarvel_df\u001b[0m\u001b[1;33m.\u001b[0m\u001b[0mAño\u001b[0m\u001b[1;33m.\u001b[0m\u001b[0mplot\u001b[0m\u001b[1;33m(\u001b[0m\u001b[1;33m)\u001b[0m\u001b[1;33m,\u001b[0m\u001b[1;34m'gráfico_del_dataframe'\u001b[0m\u001b[1;33m)\u001b[0m\u001b[1;33m\u001b[0m\u001b[1;33m\u001b[0m\u001b[0m\n\u001b[0m",
      "\u001b[1;32m~\\anaconda3\\lib\\site-packages\\dataframe_image\\_pandas_accessor.py\u001b[0m in \u001b[0;36mexport\u001b[1;34m(obj, filename, fontsize, max_rows, max_cols, table_conversion, chrome_path)\u001b[0m\n\u001b[0;32m     22\u001b[0m def export(obj, filename, fontsize=14, max_rows=None, max_cols=None, \n\u001b[0;32m     23\u001b[0m                table_conversion='chrome', chrome_path=None):\n\u001b[1;32m---> 24\u001b[1;33m         \u001b[1;32mreturn\u001b[0m \u001b[0m_export\u001b[0m\u001b[1;33m(\u001b[0m\u001b[0mobj\u001b[0m\u001b[1;33m,\u001b[0m \u001b[0mfilename\u001b[0m\u001b[1;33m,\u001b[0m \u001b[0mfontsize\u001b[0m\u001b[1;33m,\u001b[0m \u001b[0mmax_rows\u001b[0m\u001b[1;33m,\u001b[0m \u001b[0mmax_cols\u001b[0m\u001b[1;33m,\u001b[0m \u001b[0mtable_conversion\u001b[0m\u001b[1;33m,\u001b[0m \u001b[0mchrome_path\u001b[0m\u001b[1;33m)\u001b[0m\u001b[1;33m\u001b[0m\u001b[1;33m\u001b[0m\u001b[0m\n\u001b[0m\u001b[0;32m     25\u001b[0m \u001b[1;33m\u001b[0m\u001b[0m\n\u001b[0;32m     26\u001b[0m \u001b[1;33m\u001b[0m\u001b[0m\n",
      "\u001b[1;32m~\\anaconda3\\lib\\site-packages\\dataframe_image\\_pandas_accessor.py\u001b[0m in \u001b[0;36m_export\u001b[1;34m(obj, filename, fontsize, max_rows, max_cols, table_conversion, chrome_path)\u001b[0m\n\u001b[0;32m     36\u001b[0m         \u001b[0mconverter\u001b[0m \u001b[1;33m=\u001b[0m \u001b[0mTableMaker\u001b[0m\u001b[1;33m(\u001b[0m\u001b[0mfontsize\u001b[0m\u001b[1;33m=\u001b[0m\u001b[0mfontsize\u001b[0m\u001b[1;33m,\u001b[0m \u001b[0mencode_base64\u001b[0m\u001b[1;33m=\u001b[0m\u001b[1;32mFalse\u001b[0m\u001b[1;33m,\u001b[0m \u001b[0mfor_document\u001b[0m\u001b[1;33m=\u001b[0m\u001b[1;32mFalse\u001b[0m\u001b[1;33m)\u001b[0m\u001b[1;33m.\u001b[0m\u001b[0mrun\u001b[0m\u001b[1;33m\u001b[0m\u001b[1;33m\u001b[0m\u001b[0m\n\u001b[0;32m     37\u001b[0m \u001b[1;33m\u001b[0m\u001b[0m\n\u001b[1;32m---> 38\u001b[1;33m     \u001b[1;32mif\u001b[0m \u001b[0mdf\u001b[0m\u001b[1;33m.\u001b[0m\u001b[0mshape\u001b[0m\u001b[1;33m[\u001b[0m\u001b[1;36m0\u001b[0m\u001b[1;33m]\u001b[0m \u001b[1;33m>\u001b[0m \u001b[0mMAX_ROWS\u001b[0m \u001b[1;32mand\u001b[0m \u001b[0mmax_rows\u001b[0m \u001b[1;32mis\u001b[0m \u001b[1;32mNone\u001b[0m\u001b[1;33m:\u001b[0m\u001b[1;33m\u001b[0m\u001b[1;33m\u001b[0m\u001b[0m\n\u001b[0m\u001b[0;32m     39\u001b[0m         error_msg = (f'Your DataFrame has more than {MAX_ROWS} rows and will produce a huge '\n\u001b[0;32m     40\u001b[0m                     \u001b[1;34m'image file, possibly causing your computer to crash. Override this error '\u001b[0m\u001b[1;33m\u001b[0m\u001b[1;33m\u001b[0m\u001b[0m\n",
      "\u001b[1;31mAttributeError\u001b[0m: 'AxesSubplot' object has no attribute 'shape'"
     ]
    },
    {
     "data": {
      "image/png": "[encoded data removed]",
      "text/plain": [
       "<Figure size 432x288 with 1 Axes>"
      ]
     },
     "metadata": {
      "needs_background": "light"
     },
     "output_type": "display_data"
    }
   ],
   "source": [
    "dfi.export(marvel_df.Año.plot(),'gráfico_del_dataframe')"
   ]
  },
  {
   "cell_type": "code",
   "execution_count": 8,
   "id": "66b6ce81-3287-4ff7-9f8d-15af8c3ae55c",
   "metadata": {},
   "outputs": [],
   "source": [
    "import matplotlib as mpl\n",
    "import matplotlib.pyplot as plt\n",
    "from matplotlib.ticker import ScalarFormatter "
   ]
  },
  {
   "cell_type": "code",
   "execution_count": 9,
   "id": "e0fe3618-9a64-45fc-8d96-659bcdcda4f2",
   "metadata": {},
   "outputs": [
    {
     "data": {
      "text/plain": [
       "(array([ 2.,  0.,  0.,  0.,  0.,  0., 15.,  0.,  1.,  2.]),\n",
       " array([1939. , 1942.6, 1946.2, 1949.8, 1953.4, 1957. , 1960.6, 1964.2,\n",
       "        1967.8, 1971.4, 1975. ]),\n",
       " <BarContainer object of 10 artists>)"
      ]
     },
     "execution_count": 9,
     "metadata": {},
     "output_type": "execute_result"
    },
    {
     "data": {
      "image/png": "[encoded data removed]",
      "text/plain": [
       "<Figure size 432x288 with 1 Axes>"
      ]
     },
     "metadata": {
      "needs_background": "light"
     },
     "output_type": "display_data"
    }
   ],
   "source": [
    "plt.hist(marvel_df.Año)"
   ]
  },
  {
   "cell_type": "code",
   "execution_count": null,
   "id": "fe10e1ac-e2b4-45c8-90a0-61760dd1dfb9",
   "metadata": {},
   "outputs": [],
   "source": []
  },
  {
   "cell_type": "code",
   "execution_count": null,
   "id": "b6cb7d87-3a26-464a-96fd-7732a170b529",
   "metadata": {},
   "outputs": [],
   "source": []
  }
 ],
 "metadata": {
  "kernelspec": {
   "display_name": "Python 3",
   "language": "python",
   "name": "python3"
  },
  "language_info": {
   "codemirror_mode": {
    "name": "ipython",
    "version": 3
   },
   "file_extension": ".py",
   "mimetype": "text/x-python",
   "name": "python",
   "nbconvert_exporter": "python",
   "pygments_lexer": "ipython3",
   "version": "3.8.8"
  }
 },
 "nbformat": 4,
 "nbformat_minor": 5
}
