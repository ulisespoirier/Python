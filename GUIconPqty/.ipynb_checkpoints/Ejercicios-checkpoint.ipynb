{
 "cells": [
  {
   "cell_type": "code",
   "execution_count": 1,
   "id": "cf513f62-9c83-4464-aff9-eb16fce3d307",
   "metadata": {},
   "outputs": [
    {
     "data": {
      "text/plain": [
       "0"
      ]
     },
     "execution_count": 1,
     "metadata": {},
     "output_type": "execute_result"
    }
   ],
   "source": [
    "import sys\n",
    "\n",
    "from PyQt6.QtCore import QSize, Qt\n",
    "from PyQt6.QtWidgets import QApplication, QMainWindow, QPushButton\n",
    "\n",
    "\n",
    "# Subclass QMainWindow to customize your application's main window\n",
    "class MainWindow(QMainWindow):\n",
    "    def __init__(self):\n",
    "        super().__init__()\n",
    "\n",
    "        self.setWindowTitle(\"My App\")\n",
    "        button = QPushButton(\"Press Me!\")\n",
    "\n",
    "        # Set the central widget of the Window.\n",
    "        self.setCentralWidget(button)\n",
    "\n",
    "\n",
    "app = QApplication(sys.argv)\n",
    "\n",
    "window = MainWindow()\n",
    "window.show()\n",
    "\n",
    "app.exec()"
   ]
  },
  {
   "cell_type": "code",
   "execution_count": 4,
   "id": "a4b10d9e-5ca7-49ce-aaa9-10ebde33695c",
   "metadata": {},
   "outputs": [
    {
     "name": "stdout",
     "output_type": "stream",
     "text": [
      "Clicked!\n",
      "Checked? True\n",
      "Clicked!\n",
      "Checked? False\n",
      "Clicked!\n",
      "Checked? True\n",
      "Clicked!\n",
      "Checked? False\n"
     ]
    },
    {
     "data": {
      "text/plain": [
       "0"
      ]
     },
     "execution_count": 4,
     "metadata": {},
     "output_type": "execute_result"
    }
   ],
   "source": [
    "import sys\n",
    "\n",
    "from PyQt6.QtCore import QSize, Qt\n",
    "from PyQt6.QtWidgets import QApplication, QMainWindow, QPushButton\n",
    "\n",
    "class MainWindow(QMainWindow):\n",
    "    def __init__(self):\n",
    "        super().__init__()\n",
    "\n",
    "        self.setWindowTitle(\"My App\")\n",
    "\n",
    "        button = QPushButton(\"Press Me!\")\n",
    "        button.setCheckable(True)\n",
    "        button.clicked.connect(self.the_button_was_clicked)\n",
    "        button.clicked.connect(self.the_button_was_toggled)\n",
    "\n",
    "        self.setCentralWidget(button)\n",
    "\n",
    "    def the_button_was_clicked(self):\n",
    "        print(\"Clicked!\")\n",
    "\n",
    "    def the_button_was_toggled(self, checked):\n",
    "        print(\"Checked?\", checked)\n",
    "\n",
    "app = QApplication(sys.argv)\n",
    "window = MainWindow()\n",
    "window.show()\n",
    "\n",
    "app.exec()"
   ]
  },
  {
   "cell_type": "code",
   "execution_count": null,
   "id": "37e51283-e9a3-46f4-8897-0fd695377ab7",
   "metadata": {},
   "outputs": [],
   "source": [
    "import sys\n",
    "\n",
    "from PyQt6.QtCore import QSize, Qt\n",
    "from PyQt6.QtWidgets import QApplication, QMainWindow, QPushButton\n",
    "\n",
    "class MainWindow(QMainWindow):\n",
    "    def __init__(self):\n",
    "        super().__init__()\n",
    "\n",
    "        self.setWindowTitle(\"My App\")\n",
    "\n",
    "        self.button = QPushButton(\"Press Me!\")\n",
    "        self.button.clicked.connect(self.the_button_was_clicked)\n",
    "\n",
    "        self.setCentralWidget(self.button)\n",
    "\n",
    "    def the_button_was_clicked(self):\n",
    "        self.button.setText(\"You already clicked me.\")\n",
    "        self.button.setEnabled(False)\n",
    "\n",
    "        # Also change the window title.\n",
    "        self.setWindowTitle(\"My Oneshot App\")\n",
    "\n",
    "app = QApplication(sys.argv)\n",
    "window = MainWindow()\n",
    "window.show()\n",
    "\n",
    "app.exec()"
   ]
  },
  {
   "cell_type": "code",
   "execution_count": 1,
   "id": "5cb6afd1-0b70-41d8-965c-7e5facbf3289",
   "metadata": {},
   "outputs": [
    {
     "data": {
      "text/plain": [
       "0"
      ]
     },
     "execution_count": 1,
     "metadata": {},
     "output_type": "execute_result"
    }
   ],
   "source": [
    "#import sys\n",
    "from PyQt6.QtWidgets import QApplication, QMainWindow, QPushButton\n",
    "\n",
    "class MainWindow(QMainWindow):\n",
    "    def __init__(self):\n",
    "        super().__init__()\n",
    "\n",
    "        self.setWindowTitle(\"My App\")\n",
    "\n",
    "        self.button = QPushButton(\"Press Me!\")\n",
    "        self.button.clicked.connect(self.the_button_was_clicked)\n",
    "\n",
    "        self.setCentralWidget(self.button)\n",
    "\n",
    "    def the_button_was_clicked(self):\n",
    "        self.button.setText(\"You already clicked me.\")\n",
    "        self.button.setEnabled(False)\n",
    "\n",
    "        # Also change the window title.\n",
    "        self.setWindowTitle(\"My Oneshot App\")\n",
    "\n",
    "app = QApplication([])\n",
    "\n",
    "window = MainWindow()\n",
    "window.show()\n",
    "app.exec()"
   ]
  },
  {
   "cell_type": "code",
   "execution_count": 1,
   "id": "42c85ccf-1339-4e42-b510-e8d9f30deb72",
   "metadata": {},
   "outputs": [
    {
     "name": "stdout",
     "output_type": "stream",
     "text": [
      "Clicked.\n",
      "Setting title:  Still My App\n",
      "Window title changed: Still My App\n",
      "Clicked.\n",
      "Setting title:  Still My App\n",
      "Clicked.\n",
      "Setting title:  This is surprising\n",
      "Window title changed: This is surprising\n",
      "Clicked.\n",
      "Setting title:  Something went wrong\n",
      "Window title changed: Something went wrong\n"
     ]
    },
    {
     "data": {
      "text/plain": [
       "0"
      ]
     },
     "execution_count": 1,
     "metadata": {},
     "output_type": "execute_result"
    }
   ],
   "source": [
    "from PyQt6.QtWidgets import QApplication, QMainWindow, QPushButton\n",
    "\n",
    "import sys\n",
    "from random import choice\n",
    "\n",
    "window_titles = [\n",
    "    'My App',\n",
    "    'My App',\n",
    "    'Still My App',\n",
    "    'Still My App',\n",
    "    'What on earth',\n",
    "    'What on earth',\n",
    "    'This is surprising',\n",
    "    'This is surprising',\n",
    "    'Something went wrong'\n",
    "]\n",
    "\n",
    "\n",
    "class MainWindow(QMainWindow):\n",
    "    def __init__(self):\n",
    "        super().__init__()\n",
    "\n",
    "        self.n_times_clicked = 0\n",
    "\n",
    "        self.setWindowTitle(\"My App\")\n",
    "\n",
    "        self.button = QPushButton(\"Press Me!\")\n",
    "        self.button.clicked.connect(self.the_button_was_clicked)\n",
    "\n",
    "        self.windowTitleChanged.connect(self.the_window_title_changed)\n",
    "\n",
    "        # Set the central widget of the Window.\n",
    "        self.setCentralWidget(self.button)\n",
    "\n",
    "    def the_button_was_clicked(self):\n",
    "        print(\"Clicked.\")\n",
    "        new_window_title = choice(window_titles)\n",
    "        print(\"Setting title:  %s\" % new_window_title)\n",
    "        self.setWindowTitle(new_window_title)\n",
    "\n",
    "    def the_window_title_changed(self, window_title):\n",
    "        print(\"Window title changed: %s\" % window_title)\n",
    "\n",
    "        if window_title == 'Something went wrong':\n",
    "            self.button.setDisabled(True)\n",
    "\n",
    "\n",
    "app = QApplication(sys.argv)\n",
    "\n",
    "window = MainWindow()\n",
    "window.show()\n",
    "\n",
    "app.exec()"
   ]
  },
  {
   "cell_type": "markdown",
   "id": "b0f7b218-a612-40d5-a074-90c5320f4757",
   "metadata": {},
   "source": [
    "Connecting widgets together directly"
   ]
  },
  {
   "cell_type": "code",
   "execution_count": 1,
   "id": "8e52334a-a65a-4113-b3cb-c9abdd76afb4",
   "metadata": {},
   "outputs": [
    {
     "data": {
      "text/plain": [
       "0"
      ]
     },
     "execution_count": 1,
     "metadata": {},
     "output_type": "execute_result"
    }
   ],
   "source": [
    "from PyQt6.QtWidgets import QApplication, QMainWindow, QLabel, QLineEdit, QVBoxLayout, QWidget\n",
    "\n",
    "import sys\n",
    "\n",
    "\n",
    "class MainWindow(QMainWindow):\n",
    "    def __init__(self):\n",
    "        super().__init__()\n",
    "\n",
    "        self.setWindowTitle(\"My App\")\n",
    "\n",
    "        self.label = QLabel()\n",
    "\n",
    "        self.input = QLineEdit()\n",
    "        self.input.textChanged.connect(self.label.setText)\n",
    "\n",
    "        layout = QVBoxLayout()\n",
    "        layout.addWidget(self.input)\n",
    "        layout.addWidget(self.label)\n",
    "\n",
    "        container = QWidget()\n",
    "        container.setLayout(layout)\n",
    "\n",
    "        # Set the central widget of the Window.\n",
    "        self.setCentralWidget(container)\n",
    "\n",
    "app = QApplication(sys.argv)\n",
    "window = MainWindow()\n",
    "window.show()\n",
    "app.exec()"
   ]
  },
  {
   "cell_type": "markdown",
   "id": "6e14a2a3-eafa-44e2-b464-ac53a93ee8f1",
   "metadata": {},
   "source": [
    "## Mouse events"
   ]
  },
  {
   "cell_type": "code",
   "execution_count": 7,
   "id": "6eb97cee-f5d2-4399-9f8d-d32e11088909",
   "metadata": {},
   "outputs": [
    {
     "data": {
      "text/plain": [
       "0"
      ]
     },
     "execution_count": 7,
     "metadata": {},
     "output_type": "execute_result"
    }
   ],
   "source": [
    "import sys\n",
    "\n",
    "from PyQt6.QtCore import Qt\n",
    "from PyQt6.QtWidgets import QApplication, QLabel, QMainWindow, QTextEdit\n",
    "from PyQt6.QtCore import QCoreApplication\n",
    "\n",
    "\n",
    "class MainWindow(QMainWindow):\n",
    "    def __init__(self):\n",
    "        super().__init__()\n",
    "        self.label = QLabel(\"Click in this window\")\n",
    "        self.setCentralWidget(self.label)\n",
    "        self.setMouseTracking(True)\n",
    "\n",
    "    def mouseMoveEvent(self, e):\n",
    "        self.label.setText(\"mouseMoveEvent\")\n",
    "\n",
    "    def mousePressEvent(self, e):\n",
    "        self.label.setText(\"mousePressEvent\")\n",
    "\n",
    "    def mouseReleaseEvent(self, e):\n",
    "        self.label.setText(\"mouseReleaseEvent\")\n",
    "\n",
    "    def mouseDoubleClickEvent(self, e):\n",
    "        self.label.setText(\"mouseDoubleClickEvent\")\n",
    "\n",
    "\n",
    "#app = QApplication(sys.argv) # código original. Como provoca caída, pq Qt detecta más de un objeto QApplication, usaré QtCore.QCoreApplication.instance() \n",
    "app = QCoreApplication.instance()\n",
    "if app is None:\n",
    "    app = QApplication(sys.argv)\n",
    "\n",
    "window = MainWindow()\n",
    "window.show()\n",
    "\n",
    "app.exec()"
   ]
  },
  {
   "cell_type": "code",
   "execution_count": 10,
   "id": "5da08a75-a450-49c5-af94-82a7e8096177",
   "metadata": {},
   "outputs": [
    {
     "data": {
      "text/plain": [
       "0"
      ]
     },
     "execution_count": 10,
     "metadata": {},
     "output_type": "execute_result"
    }
   ],
   "source": [
    "import sys\n",
    "\n",
    "from PyQt6.QtCore import Qt\n",
    "from PyQt6.QtWidgets import QApplication, QLabel, QMainWindow, QTextEdit\n",
    "from PyQt6.QtCore import QCoreApplication\n",
    "\n",
    "\n",
    "class MainWindow(QMainWindow):\n",
    "    def __init__(self):\n",
    "        super().__init__()\n",
    "        self.label = QLabel(\"Click in this window\")\n",
    "        self.setCentralWidget(self.label)\n",
    "        self.setMouseTracking(True)\n",
    "\n",
    "    def mousePressEvent(self, e):\n",
    "        if e.button() == Qt.MouseButton.LeftButton:\n",
    "            # handle the left-button press in here\n",
    "            self.label.setText(\"mousePressEvent LEFT\")\n",
    "\n",
    "        elif e.button() == Qt.MouseButton.MiddleButton:\n",
    "            # handle the middle-button press in here.\n",
    "            self.label.setText(\"mousePressEvent MIDDLE\")\n",
    "\n",
    "        elif e.button() == Qt.MouseButton.RightButton:\n",
    "            # handle the right-button press in here.\n",
    "            self.label.setText(\"mousePressEvent RIGHT\")\n",
    "\n",
    "    def mouseReleaseEvent(self, e):\n",
    "        if e.button() == Qt.MouseButton.LeftButton:\n",
    "            self.label.setText(\"mouseReleaseEvent LEFT\")\n",
    "\n",
    "        elif e.button() == Qt.MouseButton.MiddleButton:\n",
    "            self.label.setText(\"mouseReleaseEvent MIDDLE\")\n",
    "\n",
    "        elif e.button() == Qt.MouseButton.RightButton:\n",
    "            self.label.setText(\"mouseReleaseEvent RIGHT\")\n",
    "\n",
    "    def mouseDoubleClickEvent(self, e):\n",
    "        if e.button() == Qt.MouseButton.LeftButton:\n",
    "            self.label.setText(\"mouseDoubleClickEvent LEFT\")\n",
    "\n",
    "        elif e.button() == Qt.MouseButton.MiddleButton:\n",
    "            self.label.setText(\"mouseDoubleClickEvent MIDDLE\")\n",
    "\n",
    "        elif e.button() == Qt.MouseButton.RightButton:\n",
    "            self.label.setText(\"mouseDoubleClickEvent RIGHT\")\n",
    "\n",
    "#app = QApplication(sys.argv) # código original. Como provoca caída, pq Qt detecta más de un objeto QApplication, usaré QtCore.QCoreApplication.instance() \n",
    "app = QCoreApplication.instance()\n",
    "if app is None:\n",
    "    app = QApplication(sys.argv)\n",
    "\n",
    "window = MainWindow()\n",
    "window.show()\n",
    "\n",
    "app.exec()"
   ]
  },
  {
   "cell_type": "markdown",
   "id": "4d58e685-9393-496f-9340-ff7f142453cc",
   "metadata": {},
   "source": [
    "## Context menus"
   ]
  },
  {
   "cell_type": "code",
   "execution_count": null,
   "id": "b44bab5a-6c22-4e44-848d-4e30f469a1a2",
   "metadata": {},
   "outputs": [],
   "source": [
    "import sys\n",
    "\n",
    "from PyQt6.QtCore import Qt\n",
    "from PyQt6.QtGui import QAction\n",
    "from PyQt6.QtWidgets import QApplication, QLabel, QMainWindow, QMenu\n",
    "\n",
    "\n",
    "class MainWindow(QMainWindow):\n",
    "    def __init__(self):\n",
    "        super().__init__()\n",
    "\n",
    "    def contextMenuEvent(self, e):\n",
    "        context = QMenu(self)\n",
    "        context.addAction(QAction(\"test 1\", self))\n",
    "        context.addAction(QAction(\"test 2\", self))\n",
    "        context.addAction(QAction(\"test 3\", self))\n",
    "        context.exec(e.globalPos())\n",
    "\n",
    "\n",
    "app = QApplication(sys.argv)\n",
    "\n",
    "window = MainWindow()\n",
    "window.show()\n",
    "\n",
    "app.exec()"
   ]
  },
  {
   "cell_type": "code",
   "execution_count": 1,
   "id": "87dbc1e3-b86c-43ed-8678-3c6108228cad",
   "metadata": {},
   "outputs": [
    {
     "data": {
      "text/plain": [
       "0"
      ]
     },
     "execution_count": 1,
     "metadata": {},
     "output_type": "execute_result"
    }
   ],
   "source": [
    "import sys\n",
    "\n",
    "from PyQt6.QtCore import Qt\n",
    "from PyQt6.QtGui import QAction\n",
    "from PyQt6.QtWidgets import QApplication, QLabel, QMainWindow, QMenu\n",
    "\n",
    "\n",
    "class MainWindow(QMainWindow):\n",
    "    def __init__(self):\n",
    "        super().__init__()\n",
    "        self.show()\n",
    "\n",
    "        self.setContextMenuPolicy(Qt.ContextMenuPolicy.CustomContextMenu)\n",
    "        self.customContextMenuRequested.connect(self.on_context_menu)\n",
    "\n",
    "    def on_context_menu(self, pos):\n",
    "        context = QMenu(self)\n",
    "        context.addAction(QAction(\"test 1\", self))\n",
    "        context.addAction(QAction(\"test 2\", self))\n",
    "        context.addAction(QAction(\"test 3\", self))\n",
    "        context.exec(self.mapToGlobal(pos))\n",
    "\n",
    "app = QApplication(sys.argv)\n",
    "\n",
    "window = MainWindow()\n",
    "window.show()\n",
    "\n",
    "app.exec()"
   ]
  },
  {
   "cell_type": "markdown",
   "id": "3b099922-6c5a-41c4-b09d-570659c69748",
   "metadata": {},
   "source": [
    "# PyQt6 Widgets"
   ]
  },
  {
   "cell_type": "code",
   "execution_count": 1,
   "id": "336073e4-097e-4ef6-b5c3-609a25973a9c",
   "metadata": {},
   "outputs": [
    {
     "data": {
      "text/plain": [
       "0"
      ]
     },
     "execution_count": 1,
     "metadata": {},
     "output_type": "execute_result"
    }
   ],
   "source": [
    "import sys\n",
    "\n",
    "from PyQt6.QtCore import Qt\n",
    "from PyQt6.QtWidgets import (\n",
    "    QApplication,\n",
    "    QCheckBox,\n",
    "    QComboBox,\n",
    "    QDateEdit,\n",
    "    QDateTimeEdit,\n",
    "    QDial,\n",
    "    QDoubleSpinBox,\n",
    "    QFontComboBox,\n",
    "    QLabel,\n",
    "    QLCDNumber,\n",
    "    QLineEdit,\n",
    "    QMainWindow,\n",
    "    QProgressBar,\n",
    "    QPushButton,\n",
    "    QRadioButton,\n",
    "    QSlider,\n",
    "    QSpinBox,\n",
    "    QTimeEdit,\n",
    "    QVBoxLayout,\n",
    "    QWidget,\n",
    ")\n",
    "\n",
    "\n",
    "# Subclass QMainWindow to customize your application's main window\n",
    "class MainWindow(QMainWindow):\n",
    "    def __init__(self):\n",
    "        super().__init__()\n",
    "\n",
    "        self.setWindowTitle(\"Widgets App\")\n",
    "\n",
    "        layout = QVBoxLayout()\n",
    "        widgets = [\n",
    "            QCheckBox,\n",
    "            QComboBox,\n",
    "            QDateEdit,\n",
    "            QDateTimeEdit,\n",
    "            QDial,\n",
    "            QDoubleSpinBox,\n",
    "            QFontComboBox,\n",
    "            QLCDNumber,\n",
    "            QLabel,\n",
    "            QLineEdit,\n",
    "            QProgressBar,\n",
    "            QPushButton,\n",
    "            QRadioButton,\n",
    "            QSlider,\n",
    "            QSpinBox,\n",
    "            QTimeEdit,\n",
    "        ]\n",
    "\n",
    "        for w in widgets:\n",
    "            layout.addWidget(w())\n",
    "\n",
    "        widget = QWidget()\n",
    "        widget.setLayout(layout)\n",
    "\n",
    "        # Set the central widget of the Window. Widget will expand\n",
    "        # to take up all the space in the window by default.\n",
    "        self.setCentralWidget(widget)\n",
    "\n",
    "\n",
    "app = QApplication(sys.argv)\n",
    "window = MainWindow()\n",
    "window.show()\n",
    "\n",
    "app.exec()\n"
   ]
  },
  {
   "cell_type": "markdown",
   "id": "bfa2eafb-92fb-4fd9-a55f-355fd682c050",
   "metadata": {},
   "source": [
    "# PyQt6 Layouts"
   ]
  },
  {
   "cell_type": "markdown",
   "id": "9ade6f56-bf1e-428a-b9e8-30c9f4069d87",
   "metadata": {},
   "source": [
    "## Primero creamos un widget personalizado para colocar un fondo rojo y diferenciarlo después del Loyout."
   ]
  },
  {
   "cell_type": "code",
   "execution_count": 1,
   "id": "3429ed16-a77d-42fd-97b5-42c827ea70fe",
   "metadata": {},
   "outputs": [
    {
     "data": {
      "text/plain": [
       "0"
      ]
     },
     "execution_count": 1,
     "metadata": {},
     "output_type": "execute_result"
    }
   ],
   "source": [
    "import sys\n",
    "from PyQt6.QtWidgets import QApplication, QMainWindow, QWidget\n",
    "from PyQt6.QtGui import QPalette, QColor\n",
    "\n",
    "class Color(QWidget):\n",
    "\n",
    "    def __init__(self, color):\n",
    "        super(Color, self).__init__()\n",
    "        self.setAutoFillBackground(True)\n",
    "\n",
    "        palette = self.palette()\n",
    "        palette.setColor(QPalette.ColorRole.Window, QColor(color))\n",
    "        self.setPalette(palette)\n",
    "\n",
    "class MainWindow(QMainWindow):\n",
    "\n",
    "    def __init__(self):\n",
    "        super(MainWindow, self).__init__()\n",
    "\n",
    "        self.setWindowTitle(\"My App\")\n",
    "\n",
    "        widget = Color('red')\n",
    "        self.setCentralWidget(widget)\n",
    "\n",
    "app = QApplication(sys.argv)\n",
    "\n",
    "window = MainWindow()\n",
    "window.show()\n",
    "\n",
    "app.exec()"
   ]
  },
  {
   "cell_type": "code",
   "execution_count": 1,
   "id": "4b2b5b76-86f0-480e-80a8-669d06584b49",
   "metadata": {},
   "outputs": [
    {
     "data": {
      "text/plain": [
       "0"
      ]
     },
     "execution_count": 1,
     "metadata": {},
     "output_type": "execute_result"
    }
   ],
   "source": [
    "import sys\n",
    "from PyQt6.QtWidgets import QApplication, QMainWindow, QWidget, QVBoxLayout\n",
    "from PyQt6.QtGui import QPalette, QColor\n",
    "\n",
    "class Color(QWidget):\n",
    "    def __init__(self, color):\n",
    "        super(Color, self).__init__()\n",
    "        self.setAutoFillBackground(True)\n",
    "\n",
    "        palette = self.palette()\n",
    "        palette.setColor(QPalette.ColorRole.Window, QColor(color))\n",
    "        self.setPalette(palette)\n",
    "\n",
    "class MainWindow(QMainWindow):\n",
    "    def __init__(self):\n",
    "        super(MainWindow, self).__init__()\n",
    "\n",
    "        self.setWindowTitle(\"My App\")\n",
    "\n",
    "        layout = QVBoxLayout()\n",
    "\n",
    "        layout.addWidget(Color('red'))\n",
    "        layout.addWidget(Color('green'))\n",
    "        layout.addWidget(Color('blue'))\n",
    "\n",
    "        widget = QWidget()\n",
    "        widget.setLayout(layout)\n",
    "        self.setCentralWidget(widget)\n",
    "        \n",
    "        \n",
    "app = QApplication(sys.argv)\n",
    "\n",
    "window = MainWindow()\n",
    "window.show()\n",
    "\n",
    "app.exec()"
   ]
  },
  {
   "cell_type": "markdown",
   "id": "ac4c5443-2a0c-4d2a-afd6-0241ca68610b",
   "metadata": {},
   "source": [
    "## Layouts anidados"
   ]
  },
  {
   "cell_type": "code",
   "execution_count": null,
   "id": "a30f9f21-459a-4369-9cc3-870e5b685675",
   "metadata": {},
   "outputs": [],
   "source": [
    "import sys\n",
    "from PyQt6.QtWidgets import QApplication, QMainWindow, QWidget, QVBoxLayout, QHBoxLayout\n",
    "from PyQt6.QtGui import QPalette, QColor\n",
    "\n",
    "class Color(QWidget):\n",
    "    def __init__(self, color):\n",
    "        super(Color, self).__init__()\n",
    "        self.setAutoFillBackground(True)\n",
    "\n",
    "        palette = self.palette()\n",
    "        palette.setColor(QPalette.ColorRole.Window, QColor(color))\n",
    "        self.setPalette(palette)\n",
    "\n",
    "class MainWindow(QMainWindow):\n",
    "    def __init__(self):\n",
    "        super(MainWindow, self).__init__()\n",
    "\n",
    "        self.setWindowTitle(\"My App\")\n",
    "\n",
    "        layout1 = QHBoxLayout()\n",
    "        layout2 = QVBoxLayout()\n",
    "        layout3 = QVBoxLayout()\n",
    "        \n",
    "        layout1.setContentsMargins(0,0,0,0)\n",
    "        layout1.setSpacing(20)\n",
    "\n",
    "\n",
    "        layout2.addWidget(Color('red'))\n",
    "        layout2.addWidget(Color('yellow'))\n",
    "        layout2.addWidget(Color('purple'))\n",
    "\n",
    "        layout1.addLayout( layout2 )\n",
    "\n",
    "        layout1.addWidget(Color('green'))\n",
    "\n",
    "        layout3.addWidget(Color('red'))\n",
    "        layout3.addWidget(Color('purple'))\n",
    "\n",
    "        layout1.addLayout( layout3 )\n",
    "\n",
    "        widget = QWidget()\n",
    "        widget.setLayout(layout1)\n",
    "        self.setCentralWidget(widget)        \n",
    "        \n",
    "app = QApplication(sys.argv)\n",
    "\n",
    "window = MainWindow()\n",
    "window.show()\n",
    "\n",
    "app.exec()"
   ]
  },
  {
   "cell_type": "code",
   "execution_count": 1,
   "id": "740ca65e-a4cc-4319-b9ae-cdedee145841",
   "metadata": {},
   "outputs": [
    {
     "data": {
      "text/plain": [
       "0"
      ]
     },
     "execution_count": 1,
     "metadata": {},
     "output_type": "execute_result"
    }
   ],
   "source": [
    "import sys\n",
    "from PyQt6.QtWidgets import QApplication, QMainWindow, QWidget, QVBoxLayout, QHBoxLayout, QGridLayout\n",
    "from PyQt6.QtGui import QPalette, QColor\n",
    "\n",
    "class Color(QWidget):\n",
    "    def __init__(self, color):\n",
    "        super(Color, self).__init__()\n",
    "        self.setAutoFillBackground(True)\n",
    "\n",
    "        palette = self.palette()\n",
    "        palette.setColor(QPalette.ColorRole.Window, QColor(color))\n",
    "        self.setPalette(palette)\n",
    "\n",
    "class MainWindow(QMainWindow):\n",
    "    def __init__(self):\n",
    "        super(MainWindow, self).__init__()\n",
    "\n",
    "        self.setWindowTitle(\"My App\")\n",
    "\n",
    "        layout = QGridLayout()\n",
    "\n",
    "        layout.addWidget(Color('red'), 0, 0)\n",
    "        layout.addWidget(Color('green'), 1, 0)\n",
    "        layout.addWidget(Color('blue'), 1, 1)\n",
    "        layout.addWidget(Color('purple'), 2, 1)\n",
    "\n",
    "        widget = QWidget()\n",
    "        widget.setLayout(layout)\n",
    "        self.setCentralWidget(widget)\n",
    "        \n",
    "app = QApplication(sys.argv)\n",
    "\n",
    "window = MainWindow()\n",
    "window.show()\n",
    "\n",
    "app.exec()"
   ]
  },
  {
   "cell_type": "code",
   "execution_count": 1,
   "id": "467e0527-5749-4108-a47d-e14cbc5d9478",
   "metadata": {},
   "outputs": [
    {
     "data": {
      "text/plain": [
       "0"
      ]
     },
     "execution_count": 1,
     "metadata": {},
     "output_type": "execute_result"
    }
   ],
   "source": [
    "import sys\n",
    "\n",
    "from PyQt6.QtCore import Qt\n",
    "from PyQt6.QtWidgets import (\n",
    "    QApplication,\n",
    "    QHBoxLayout,\n",
    "    QLabel,\n",
    "    QMainWindow,\n",
    "    QPushButton,\n",
    "    QStackedLayout,\n",
    "    QVBoxLayout,\n",
    "    QWidget,\n",
    ")\n",
    "\n",
    "from PyQt6.QtGui import QPalette, QColor\n",
    "\n",
    "class Color(QWidget):\n",
    "    def __init__(self, color):\n",
    "        super(Color, self).__init__()\n",
    "        self.setAutoFillBackground(True)\n",
    "\n",
    "        palette = self.palette()\n",
    "        palette.setColor(QPalette.ColorRole.Window, QColor(color))\n",
    "        self.setPalette(palette)\n",
    "\n",
    "\n",
    "\n",
    "class MainWindow(QMainWindow):\n",
    "    def __init__(self):\n",
    "        super().__init__()\n",
    "\n",
    "        self.setWindowTitle(\"My App\")\n",
    "\n",
    "        pagelayout = QVBoxLayout()\n",
    "        button_layout = QHBoxLayout()\n",
    "        self.stacklayout = QStackedLayout()\n",
    "\n",
    "        pagelayout.addLayout(button_layout)\n",
    "        pagelayout.addLayout(self.stacklayout)\n",
    "\n",
    "        btn = QPushButton(\"red\")\n",
    "        btn.pressed.connect(self.activate_tab_1)\n",
    "        button_layout.addWidget(btn)\n",
    "        self.stacklayout.addWidget(Color(\"red\"))\n",
    "\n",
    "        btn = QPushButton(\"green\")\n",
    "        btn.pressed.connect(self.activate_tab_2)\n",
    "        button_layout.addWidget(btn)\n",
    "        self.stacklayout.addWidget(Color(\"green\"))\n",
    "\n",
    "        btn = QPushButton(\"yellow\")\n",
    "        btn.pressed.connect(self.activate_tab_3)\n",
    "        button_layout.addWidget(btn)\n",
    "        self.stacklayout.addWidget(Color(\"yellow\"))\n",
    "\n",
    "        widget = QWidget()\n",
    "        widget.setLayout(pagelayout)\n",
    "        self.setCentralWidget(widget)\n",
    "\n",
    "    def activate_tab_1(self):\n",
    "        self.stacklayout.setCurrentIndex(0)\n",
    "\n",
    "    def activate_tab_2(self):\n",
    "        self.stacklayout.setCurrentIndex(1)\n",
    "\n",
    "    def activate_tab_3(self):\n",
    "        self.stacklayout.setCurrentIndex(2)\n",
    "\n",
    "\n",
    "app = QApplication(sys.argv)\n",
    "\n",
    "window = MainWindow()\n",
    "window.show()\n",
    "\n",
    "app.exec()\n"
   ]
  },
  {
   "cell_type": "markdown",
   "id": "bae16943-661b-44a7-b10c-f96d38e68eb6",
   "metadata": {},
   "source": [
    "## Qt en realidad proporciona un TabWidget incorporado que proporciona este tipo de diseño listo para usar, aunque en forma de widget. A continuación, la demostración de la pestaña se recrea usando QTabWidget:"
   ]
  },
  {
   "cell_type": "code",
   "execution_count": 1,
   "id": "d127a6bb-26da-4165-979c-3dc5b7dd625d",
   "metadata": {},
   "outputs": [
    {
     "data": {
      "text/plain": [
       "0"
      ]
     },
     "execution_count": 1,
     "metadata": {},
     "output_type": "execute_result"
    }
   ],
   "source": [
    "import sys\n",
    "\n",
    "from PyQt6.QtCore import Qt\n",
    "from PyQt6.QtWidgets import (\n",
    "    QApplication,\n",
    "    QHBoxLayout,\n",
    "    QLabel,\n",
    "    QMainWindow,\n",
    "    QPushButton,\n",
    "    QStackedLayout,\n",
    "    QVBoxLayout,\n",
    "    QWidget,\n",
    "    QTabWidget\n",
    ")\n",
    "\n",
    "from PyQt6.QtGui import QPalette, QColor\n",
    "\n",
    "class Color(QWidget):\n",
    "    def __init__(self, color):\n",
    "        super(Color, self).__init__()\n",
    "        self.setAutoFillBackground(True)\n",
    "\n",
    "        palette = self.palette()\n",
    "        palette.setColor(QPalette.ColorRole.Window, QColor(color))\n",
    "        self.setPalette(palette)\n",
    "\n",
    "\n",
    "\n",
    "class MainWindow(QMainWindow):\n",
    "    def __init__(self):\n",
    "        super().__init__()\n",
    "\n",
    "        self.setWindowTitle(\"My App\")\n",
    "\n",
    "        tabs = QTabWidget()\n",
    "        tabs.setTabPosition(QTabWidget.TabPosition.West)\n",
    "        tabs.setMovable(True)\n",
    "\n",
    "        for n, color in enumerate([\"red\", \"green\", \"blue\", \"yellow\"]):\n",
    "            tabs.addTab(Color(color), color)\n",
    "\n",
    "        self.setCentralWidget(tabs)\n",
    "\n",
    "\n",
    "app = QApplication(sys.argv)\n",
    "\n",
    "window = MainWindow()\n",
    "window.show()\n",
    "\n",
    "app.exec()\n"
   ]
  },
  {
   "cell_type": "code",
   "execution_count": null,
   "id": "ca0740d9-d409-4824-860b-ef5d9ef3f169",
   "metadata": {},
   "outputs": [],
   "source": []
  },
  {
   "cell_type": "code",
   "execution_count": null,
   "id": "9e508799-09f3-4eac-9267-2a823d11249b",
   "metadata": {},
   "outputs": [],
   "source": []
  }
 ],
 "metadata": {
  "kernelspec": {
   "display_name": "Python 3 (ipykernel)",
   "language": "python",
   "name": "python3"
  },
  "language_info": {
   "codemirror_mode": {
    "name": "ipython",
    "version": 3
   },
   "file_extension": ".py",
   "mimetype": "text/x-python",
   "name": "python",
   "nbconvert_exporter": "python",
   "pygments_lexer": "ipython3",
   "version": "3.9.13"
  }
 },
 "nbformat": 4,
 "nbformat_minor": 5
}
