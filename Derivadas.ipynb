{
 "cells": [
  {
   "cell_type": "markdown",
   "metadata": {},
   "source": [
    "# Derivadas con Python"
   ]
  },
  {
   "cell_type": "code",
   "execution_count": 12,
   "metadata": {},
   "outputs": [],
   "source": [
    "import numpy as np\n",
    "import scipy as sp\n",
    "import sympy as smp\n",
    "import matplotlib.pyplot as plt\n",
    "from scipy.misc import derivative"
   ]
  },
  {
   "cell_type": "markdown",
   "metadata": {},
   "source": [
    "## Caso simbólico"
   ]
  },
  {
   "cell_type": "markdown",
   "metadata": {},
   "source": [
    "### Conoce la fórmula explícitamente, pero no tiene ganas de usar un lápiz para calcular la derivada de f(x)"
   ]
  },
  {
   "cell_type": "code",
   "execution_count": 16,
   "metadata": {},
   "outputs": [
    {
     "data": {
      "text/latex": [
       "$\\displaystyle e^{- a \\sin{\\left(x^{2} \\right)}} \\log{\\left(\\frac{c \\sin^{2}{\\left(x \\right)}}{x} \\right)} \\sin{\\left(b^{x} \\right)}$"
      ],
      "text/plain": [
       "exp(-a*sin(x**2))*log(c*sin(x)**2/x)*sin(b**x)"
      ]
     },
     "execution_count": 16,
     "metadata": {},
     "output_type": "execute_result"
    }
   ],
   "source": [
    "x, a, b, c = smp.symbols('x a b c', real=True)\n",
    "smp.exp(-a*smp.sin(x**2)) * smp.sin(b**x) * smp.log(c*smp.sin(x)**2 /x)"
   ]
  },
  {
   "cell_type": "code",
   "execution_count": 2,
   "metadata": {},
   "outputs": [],
   "source": [
    "x, a, b, c = smp.symbols('x a b c', real=True)"
   ]
  },
  {
   "cell_type": "code",
   "execution_count": 13,
   "metadata": {},
   "outputs": [],
   "source": [
    "f = smp.exp(-a*smp.sin(x**2)) * smp.sin(b**x) * smp.log(c*smp.sin(x)**2 /x)"
   ]
  },
  {
   "cell_type": "code",
   "execution_count": 15,
   "metadata": {},
   "outputs": [
    {
     "data": {
      "text/latex": [
       "$\\displaystyle e^{- a \\sin{\\left(x^{2} \\right)}} \\log{\\left(\\frac{c \\sin^{2}{\\left(x \\right)}}{x} \\right)} \\sin{\\left(b^{x} \\right)}$"
      ],
      "text/plain": [
       "exp(-a*sin(x**2))*log(c*sin(x)**2/x)*sin(b**x)"
      ]
     },
     "execution_count": 15,
     "metadata": {},
     "output_type": "execute_result"
    }
   ],
   "source": [
    "f"
   ]
  },
  {
   "cell_type": "code",
   "execution_count": 16,
   "metadata": {},
   "outputs": [],
   "source": [
    "dfdx = smp.diff(f,x)"
   ]
  },
  {
   "cell_type": "code",
   "execution_count": 17,
   "metadata": {},
   "outputs": [
    {
     "data": {
      "text/latex": [
       "$\\displaystyle - 2 a x e^{- a \\sin{\\left(x^{2} \\right)}} \\log{\\left(\\frac{c \\sin^{2}{\\left(x \\right)}}{x} \\right)} \\sin{\\left(b^{x} \\right)} \\cos{\\left(x^{2} \\right)} + b^{x} e^{- a \\sin{\\left(x^{2} \\right)}} \\log{\\left(b \\right)} \\log{\\left(\\frac{c \\sin^{2}{\\left(x \\right)}}{x} \\right)} \\cos{\\left(b^{x} \\right)} + \\frac{x \\left(\\frac{2 c \\sin{\\left(x \\right)} \\cos{\\left(x \\right)}}{x} - \\frac{c \\sin^{2}{\\left(x \\right)}}{x^{2}}\\right) e^{- a \\sin{\\left(x^{2} \\right)}} \\sin{\\left(b^{x} \\right)}}{c \\sin^{2}{\\left(x \\right)}}$"
      ],
      "text/plain": [
       "-2*a*x*exp(-a*sin(x**2))*log(c*sin(x)**2/x)*sin(b**x)*cos(x**2) + b**x*exp(-a*sin(x**2))*log(b)*log(c*sin(x)**2/x)*cos(b**x) + x*(2*c*sin(x)*cos(x)/x - c*sin(x)**2/x**2)*exp(-a*sin(x**2))*sin(b**x)/(c*sin(x)**2)"
      ]
     },
     "execution_count": 17,
     "metadata": {},
     "output_type": "execute_result"
    }
   ],
   "source": [
    "dfdx"
   ]
  },
  {
   "cell_type": "markdown",
   "metadata": {},
   "source": [
    "## Puede calcular la enésima derivada d ^ n f / dx ^ n poniendo el argumento opcional al final smp.diff (f, x, n)."
   ]
  },
  {
   "cell_type": "code",
   "execution_count": 18,
   "metadata": {},
   "outputs": [],
   "source": [
    "d4fdx4 = smp.diff(f,x,4)"
   ]
  },
  {
   "cell_type": "code",
   "execution_count": 20,
   "metadata": {},
   "outputs": [
    {
     "data": {
      "text/latex": [
       "$\\displaystyle \\left(\\frac{24 a b^{x} x \\left(b^{x} \\sin{\\left(b^{x} \\right)} - \\cos{\\left(b^{x} \\right)}\\right) \\left(2 \\cos{\\left(x \\right)} - \\frac{\\sin{\\left(x \\right)}}{x}\\right) \\log{\\left(b \\right)}^{2} \\cos{\\left(x^{2} \\right)}}{\\sin{\\left(x \\right)}} + 8 a b^{x} x \\left(b^{2 x} \\cos{\\left(b^{x} \\right)} + 3 b^{x} \\sin{\\left(b^{x} \\right)} - \\cos{\\left(b^{x} \\right)}\\right) \\log{\\left(b \\right)}^{3} \\log{\\left(\\frac{c \\sin^{2}{\\left(x \\right)}}{x} \\right)} \\cos{\\left(x^{2} \\right)} + \\frac{24 a b^{x} x \\left(\\frac{2 \\left(2 \\cos{\\left(x \\right)} - \\frac{\\sin{\\left(x \\right)}}{x}\\right) \\cos{\\left(x \\right)}}{\\sin{\\left(x \\right)}} + \\frac{2 \\left(\\sin^{2}{\\left(x \\right)} - \\cos^{2}{\\left(x \\right)} + \\frac{2 \\sin{\\left(x \\right)} \\cos{\\left(x \\right)}}{x} - \\frac{\\sin^{2}{\\left(x \\right)}}{x^{2}}\\right)}{\\sin{\\left(x \\right)}} - \\frac{2 \\cos{\\left(x \\right)} - \\frac{\\sin{\\left(x \\right)}}{x}}{x}\\right) \\log{\\left(b \\right)} \\cos{\\left(b^{x} \\right)} \\cos{\\left(x^{2} \\right)}}{\\sin{\\left(x \\right)}} + 16 a b^{x} x \\left(- 2 a^{2} x^{2} \\cos^{3}{\\left(x^{2} \\right)} - 6 a x^{2} \\sin{\\left(x^{2} \\right)} \\cos{\\left(x^{2} \\right)} + 3 a \\cos^{2}{\\left(x^{2} \\right)} + 2 x^{2} \\cos{\\left(x^{2} \\right)} + 3 \\sin{\\left(x^{2} \\right)}\\right) \\log{\\left(b \\right)} \\log{\\left(\\frac{c \\sin^{2}{\\left(x \\right)}}{x} \\right)} \\cos{\\left(b^{x} \\right)} - 12 a b^{x} \\left(b^{x} \\sin{\\left(b^{x} \\right)} - \\cos{\\left(b^{x} \\right)}\\right) \\left(2 a x^{2} \\cos^{2}{\\left(x^{2} \\right)} + 2 x^{2} \\sin{\\left(x^{2} \\right)} - \\cos{\\left(x^{2} \\right)}\\right) \\log{\\left(b \\right)}^{2} \\log{\\left(\\frac{c \\sin^{2}{\\left(x \\right)}}{x} \\right)} + \\frac{24 a b^{x} \\left(2 \\cos{\\left(x \\right)} - \\frac{\\sin{\\left(x \\right)}}{x}\\right) \\left(2 a x^{2} \\cos^{2}{\\left(x^{2} \\right)} + 2 x^{2} \\sin{\\left(x^{2} \\right)} - \\cos{\\left(x^{2} \\right)}\\right) \\log{\\left(b \\right)} \\cos{\\left(b^{x} \\right)}}{\\sin{\\left(x \\right)}} + \\frac{16 a x \\left(2 \\cos{\\left(x \\right)} - \\frac{\\sin{\\left(x \\right)}}{x}\\right) \\left(- 2 a^{2} x^{2} \\cos^{3}{\\left(x^{2} \\right)} - 6 a x^{2} \\sin{\\left(x^{2} \\right)} \\cos{\\left(x^{2} \\right)} + 3 a \\cos^{2}{\\left(x^{2} \\right)} + 2 x^{2} \\cos{\\left(x^{2} \\right)} + 3 \\sin{\\left(x^{2} \\right)}\\right) \\sin{\\left(b^{x} \\right)}}{\\sin{\\left(x \\right)}} + \\frac{16 a x \\left(- \\frac{3 \\left(2 \\cos{\\left(x \\right)} - \\frac{\\sin{\\left(x \\right)}}{x}\\right) \\cos^{2}{\\left(x \\right)}}{\\sin^{2}{\\left(x \\right)}} - \\frac{4 \\left(\\sin^{2}{\\left(x \\right)} - \\cos^{2}{\\left(x \\right)} + \\frac{2 \\sin{\\left(x \\right)} \\cos{\\left(x \\right)}}{x} - \\frac{\\sin^{2}{\\left(x \\right)}}{x^{2}}\\right) \\cos{\\left(x \\right)}}{\\sin^{2}{\\left(x \\right)}} + \\frac{4 \\sin{\\left(x \\right)} \\cos{\\left(x \\right)} - \\frac{3 \\sin^{2}{\\left(x \\right)}}{x} + \\frac{3 \\cos^{2}{\\left(x \\right)}}{x} - \\frac{6 \\sin{\\left(x \\right)} \\cos{\\left(x \\right)}}{x^{2}} + \\frac{3 \\sin^{2}{\\left(x \\right)}}{x^{3}}}{\\sin{\\left(x \\right)}} - 2 \\cos{\\left(x \\right)} + \\frac{2 \\left(2 \\cos{\\left(x \\right)} - \\frac{\\sin{\\left(x \\right)}}{x}\\right) \\cos{\\left(x \\right)}}{x \\sin{\\left(x \\right)}} + \\frac{2 \\left(\\sin^{2}{\\left(x \\right)} - \\cos^{2}{\\left(x \\right)} + \\frac{2 \\sin{\\left(x \\right)} \\cos{\\left(x \\right)}}{x} - \\frac{\\sin^{2}{\\left(x \\right)}}{x^{2}}\\right)}{x \\sin{\\left(x \\right)}} + \\frac{\\sin{\\left(x \\right)}}{x}\\right) \\sin{\\left(b^{x} \\right)} \\cos{\\left(x^{2} \\right)}}{\\sin{\\left(x \\right)}} - \\frac{12 a \\left(2 a x^{2} \\cos^{2}{\\left(x^{2} \\right)} + 2 x^{2} \\sin{\\left(x^{2} \\right)} - \\cos{\\left(x^{2} \\right)}\\right) \\left(\\frac{2 \\left(2 \\cos{\\left(x \\right)} - \\frac{\\sin{\\left(x \\right)}}{x}\\right) \\cos{\\left(x \\right)}}{\\sin{\\left(x \\right)}} + \\frac{2 \\left(\\sin^{2}{\\left(x \\right)} - \\cos^{2}{\\left(x \\right)} + \\frac{2 \\sin{\\left(x \\right)} \\cos{\\left(x \\right)}}{x} - \\frac{\\sin^{2}{\\left(x \\right)}}{x^{2}}\\right)}{\\sin{\\left(x \\right)}} - \\frac{2 \\cos{\\left(x \\right)} - \\frac{\\sin{\\left(x \\right)}}{x}}{x}\\right) \\sin{\\left(b^{x} \\right)}}{\\sin{\\left(x \\right)}} + 4 a \\left(4 a^{3} x^{4} \\cos^{4}{\\left(x^{2} \\right)} + 24 a^{2} x^{4} \\sin{\\left(x^{2} \\right)} \\cos^{2}{\\left(x^{2} \\right)} - 12 a^{2} x^{2} \\cos^{3}{\\left(x^{2} \\right)} + 12 a x^{4} \\sin^{2}{\\left(x^{2} \\right)} - 16 a x^{4} \\cos^{2}{\\left(x^{2} \\right)} - 36 a x^{2} \\sin{\\left(x^{2} \\right)} \\cos{\\left(x^{2} \\right)} + 3 a \\cos^{2}{\\left(x^{2} \\right)} - 4 x^{4} \\sin{\\left(x^{2} \\right)} + 12 x^{2} \\cos{\\left(x^{2} \\right)} + 3 \\sin{\\left(x^{2} \\right)}\\right) \\log{\\left(\\frac{c \\sin^{2}{\\left(x \\right)}}{x} \\right)} \\sin{\\left(b^{x} \\right)} + \\frac{6 b^{x} \\left(b^{x} \\sin{\\left(b^{x} \\right)} - \\cos{\\left(b^{x} \\right)}\\right) \\left(\\frac{2 \\left(2 \\cos{\\left(x \\right)} - \\frac{\\sin{\\left(x \\right)}}{x}\\right) \\cos{\\left(x \\right)}}{\\sin{\\left(x \\right)}} + \\frac{2 \\left(\\sin^{2}{\\left(x \\right)} - \\cos^{2}{\\left(x \\right)} + \\frac{2 \\sin{\\left(x \\right)} \\cos{\\left(x \\right)}}{x} - \\frac{\\sin^{2}{\\left(x \\right)}}{x^{2}}\\right)}{\\sin{\\left(x \\right)}} - \\frac{2 \\cos{\\left(x \\right)} - \\frac{\\sin{\\left(x \\right)}}{x}}{x}\\right) \\log{\\left(b \\right)}^{2}}{\\sin{\\left(x \\right)}} - \\frac{4 b^{x} \\left(2 \\cos{\\left(x \\right)} - \\frac{\\sin{\\left(x \\right)}}{x}\\right) \\left(b^{2 x} \\cos{\\left(b^{x} \\right)} + 3 b^{x} \\sin{\\left(b^{x} \\right)} - \\cos{\\left(b^{x} \\right)}\\right) \\log{\\left(b \\right)}^{3}}{\\sin{\\left(x \\right)}} + b^{x} \\left(b^{3 x} \\sin{\\left(b^{x} \\right)} - 6 b^{2 x} \\cos{\\left(b^{x} \\right)} - 7 b^{x} \\sin{\\left(b^{x} \\right)} + \\cos{\\left(b^{x} \\right)}\\right) \\log{\\left(b \\right)}^{4} \\log{\\left(\\frac{c \\sin^{2}{\\left(x \\right)}}{x} \\right)} - \\frac{8 b^{x} \\left(- \\frac{3 \\left(2 \\cos{\\left(x \\right)} - \\frac{\\sin{\\left(x \\right)}}{x}\\right) \\cos^{2}{\\left(x \\right)}}{\\sin^{2}{\\left(x \\right)}} - \\frac{4 \\left(\\sin^{2}{\\left(x \\right)} - \\cos^{2}{\\left(x \\right)} + \\frac{2 \\sin{\\left(x \\right)} \\cos{\\left(x \\right)}}{x} - \\frac{\\sin^{2}{\\left(x \\right)}}{x^{2}}\\right) \\cos{\\left(x \\right)}}{\\sin^{2}{\\left(x \\right)}} + \\frac{4 \\sin{\\left(x \\right)} \\cos{\\left(x \\right)} - \\frac{3 \\sin^{2}{\\left(x \\right)}}{x} + \\frac{3 \\cos^{2}{\\left(x \\right)}}{x} - \\frac{6 \\sin{\\left(x \\right)} \\cos{\\left(x \\right)}}{x^{2}} + \\frac{3 \\sin^{2}{\\left(x \\right)}}{x^{3}}}{\\sin{\\left(x \\right)}} - 2 \\cos{\\left(x \\right)} + \\frac{2 \\left(2 \\cos{\\left(x \\right)} - \\frac{\\sin{\\left(x \\right)}}{x}\\right) \\cos{\\left(x \\right)}}{x \\sin{\\left(x \\right)}} + \\frac{2 \\left(\\sin^{2}{\\left(x \\right)} - \\cos^{2}{\\left(x \\right)} + \\frac{2 \\sin{\\left(x \\right)} \\cos{\\left(x \\right)}}{x} - \\frac{\\sin^{2}{\\left(x \\right)}}{x^{2}}\\right)}{x \\sin{\\left(x \\right)}} + \\frac{\\sin{\\left(x \\right)}}{x}\\right) \\log{\\left(b \\right)} \\cos{\\left(b^{x} \\right)}}{\\sin{\\left(x \\right)}} - \\frac{2 \\left(\\frac{8 \\left(2 \\cos{\\left(x \\right)} - \\frac{\\sin{\\left(x \\right)}}{x}\\right) \\cos{\\left(x \\right)}}{\\sin{\\left(x \\right)}} + \\frac{12 \\left(2 \\cos{\\left(x \\right)} - \\frac{\\sin{\\left(x \\right)}}{x}\\right) \\cos^{3}{\\left(x \\right)}}{\\sin^{3}{\\left(x \\right)}} + \\frac{6 \\left(\\sin^{2}{\\left(x \\right)} - \\cos^{2}{\\left(x \\right)} + \\frac{2 \\sin{\\left(x \\right)} \\cos{\\left(x \\right)}}{x} - \\frac{\\sin^{2}{\\left(x \\right)}}{x^{2}}\\right)}{\\sin{\\left(x \\right)}} + \\frac{18 \\left(\\sin^{2}{\\left(x \\right)} - \\cos^{2}{\\left(x \\right)} + \\frac{2 \\sin{\\left(x \\right)} \\cos{\\left(x \\right)}}{x} - \\frac{\\sin^{2}{\\left(x \\right)}}{x^{2}}\\right) \\cos^{2}{\\left(x \\right)}}{\\sin^{3}{\\left(x \\right)}} - \\frac{6 \\left(4 \\sin{\\left(x \\right)} \\cos{\\left(x \\right)} - \\frac{3 \\sin^{2}{\\left(x \\right)}}{x} + \\frac{3 \\cos^{2}{\\left(x \\right)}}{x} - \\frac{6 \\sin{\\left(x \\right)} \\cos{\\left(x \\right)}}{x^{2}} + \\frac{3 \\sin^{2}{\\left(x \\right)}}{x^{3}}\\right) \\cos{\\left(x \\right)}}{\\sin^{2}{\\left(x \\right)}} - \\frac{4 \\left(\\sin^{2}{\\left(x \\right)} - \\cos^{2}{\\left(x \\right)} + \\frac{4 \\sin{\\left(x \\right)} \\cos{\\left(x \\right)}}{x} - \\frac{3 \\sin^{2}{\\left(x \\right)}}{x^{2}} + \\frac{3 \\cos^{2}{\\left(x \\right)}}{x^{2}} - \\frac{6 \\sin{\\left(x \\right)} \\cos{\\left(x \\right)}}{x^{3}} + \\frac{3 \\sin^{2}{\\left(x \\right)}}{x^{4}}\\right)}{\\sin{\\left(x \\right)}} - \\frac{3 \\left(2 \\cos{\\left(x \\right)} - \\frac{\\sin{\\left(x \\right)}}{x}\\right)}{x} - \\frac{9 \\left(2 \\cos{\\left(x \\right)} - \\frac{\\sin{\\left(x \\right)}}{x}\\right) \\cos^{2}{\\left(x \\right)}}{x \\sin^{2}{\\left(x \\right)}} - \\frac{12 \\left(\\sin^{2}{\\left(x \\right)} - \\cos^{2}{\\left(x \\right)} + \\frac{2 \\sin{\\left(x \\right)} \\cos{\\left(x \\right)}}{x} - \\frac{\\sin^{2}{\\left(x \\right)}}{x^{2}}\\right) \\cos{\\left(x \\right)}}{x \\sin^{2}{\\left(x \\right)}} + \\frac{3 \\left(4 \\sin{\\left(x \\right)} \\cos{\\left(x \\right)} - \\frac{3 \\sin^{2}{\\left(x \\right)}}{x} + \\frac{3 \\cos^{2}{\\left(x \\right)}}{x} - \\frac{6 \\sin{\\left(x \\right)} \\cos{\\left(x \\right)}}{x^{2}} + \\frac{3 \\sin^{2}{\\left(x \\right)}}{x^{3}}\\right)}{x \\sin{\\left(x \\right)}}\\right) \\sin{\\left(b^{x} \\right)}}{\\sin{\\left(x \\right)}}\\right) e^{- a \\sin{\\left(x^{2} \\right)}}$"
      ],
      "text/plain": [
       "(24*a*b**x*x*(b**x*sin(b**x) - cos(b**x))*(2*cos(x) - sin(x)/x)*log(b)**2*cos(x**2)/sin(x) + 8*a*b**x*x*(b**(2*x)*cos(b**x) + 3*b**x*sin(b**x) - cos(b**x))*log(b)**3*log(c*sin(x)**2/x)*cos(x**2) + 24*a*b**x*x*(2*(2*cos(x) - sin(x)/x)*cos(x)/sin(x) + 2*(sin(x)**2 - cos(x)**2 + 2*sin(x)*cos(x)/x - sin(x)**2/x**2)/sin(x) - (2*cos(x) - sin(x)/x)/x)*log(b)*cos(b**x)*cos(x**2)/sin(x) + 16*a*b**x*x*(-2*a**2*x**2*cos(x**2)**3 - 6*a*x**2*sin(x**2)*cos(x**2) + 3*a*cos(x**2)**2 + 2*x**2*cos(x**2) + 3*sin(x**2))*log(b)*log(c*sin(x)**2/x)*cos(b**x) - 12*a*b**x*(b**x*sin(b**x) - cos(b**x))*(2*a*x**2*cos(x**2)**2 + 2*x**2*sin(x**2) - cos(x**2))*log(b)**2*log(c*sin(x)**2/x) + 24*a*b**x*(2*cos(x) - sin(x)/x)*(2*a*x**2*cos(x**2)**2 + 2*x**2*sin(x**2) - cos(x**2))*log(b)*cos(b**x)/sin(x) + 16*a*x*(2*cos(x) - sin(x)/x)*(-2*a**2*x**2*cos(x**2)**3 - 6*a*x**2*sin(x**2)*cos(x**2) + 3*a*cos(x**2)**2 + 2*x**2*cos(x**2) + 3*sin(x**2))*sin(b**x)/sin(x) + 16*a*x*(-3*(2*cos(x) - sin(x)/x)*cos(x)**2/sin(x)**2 - 4*(sin(x)**2 - cos(x)**2 + 2*sin(x)*cos(x)/x - sin(x)**2/x**2)*cos(x)/sin(x)**2 + (4*sin(x)*cos(x) - 3*sin(x)**2/x + 3*cos(x)**2/x - 6*sin(x)*cos(x)/x**2 + 3*sin(x)**2/x**3)/sin(x) - 2*cos(x) + 2*(2*cos(x) - sin(x)/x)*cos(x)/(x*sin(x)) + 2*(sin(x)**2 - cos(x)**2 + 2*sin(x)*cos(x)/x - sin(x)**2/x**2)/(x*sin(x)) + sin(x)/x)*sin(b**x)*cos(x**2)/sin(x) - 12*a*(2*a*x**2*cos(x**2)**2 + 2*x**2*sin(x**2) - cos(x**2))*(2*(2*cos(x) - sin(x)/x)*cos(x)/sin(x) + 2*(sin(x)**2 - cos(x)**2 + 2*sin(x)*cos(x)/x - sin(x)**2/x**2)/sin(x) - (2*cos(x) - sin(x)/x)/x)*sin(b**x)/sin(x) + 4*a*(4*a**3*x**4*cos(x**2)**4 + 24*a**2*x**4*sin(x**2)*cos(x**2)**2 - 12*a**2*x**2*cos(x**2)**3 + 12*a*x**4*sin(x**2)**2 - 16*a*x**4*cos(x**2)**2 - 36*a*x**2*sin(x**2)*cos(x**2) + 3*a*cos(x**2)**2 - 4*x**4*sin(x**2) + 12*x**2*cos(x**2) + 3*sin(x**2))*log(c*sin(x)**2/x)*sin(b**x) + 6*b**x*(b**x*sin(b**x) - cos(b**x))*(2*(2*cos(x) - sin(x)/x)*cos(x)/sin(x) + 2*(sin(x)**2 - cos(x)**2 + 2*sin(x)*cos(x)/x - sin(x)**2/x**2)/sin(x) - (2*cos(x) - sin(x)/x)/x)*log(b)**2/sin(x) - 4*b**x*(2*cos(x) - sin(x)/x)*(b**(2*x)*cos(b**x) + 3*b**x*sin(b**x) - cos(b**x))*log(b)**3/sin(x) + b**x*(b**(3*x)*sin(b**x) - 6*b**(2*x)*cos(b**x) - 7*b**x*sin(b**x) + cos(b**x))*log(b)**4*log(c*sin(x)**2/x) - 8*b**x*(-3*(2*cos(x) - sin(x)/x)*cos(x)**2/sin(x)**2 - 4*(sin(x)**2 - cos(x)**2 + 2*sin(x)*cos(x)/x - sin(x)**2/x**2)*cos(x)/sin(x)**2 + (4*sin(x)*cos(x) - 3*sin(x)**2/x + 3*cos(x)**2/x - 6*sin(x)*cos(x)/x**2 + 3*sin(x)**2/x**3)/sin(x) - 2*cos(x) + 2*(2*cos(x) - sin(x)/x)*cos(x)/(x*sin(x)) + 2*(sin(x)**2 - cos(x)**2 + 2*sin(x)*cos(x)/x - sin(x)**2/x**2)/(x*sin(x)) + sin(x)/x)*log(b)*cos(b**x)/sin(x) - 2*(8*(2*cos(x) - sin(x)/x)*cos(x)/sin(x) + 12*(2*cos(x) - sin(x)/x)*cos(x)**3/sin(x)**3 + 6*(sin(x)**2 - cos(x)**2 + 2*sin(x)*cos(x)/x - sin(x)**2/x**2)/sin(x) + 18*(sin(x)**2 - cos(x)**2 + 2*sin(x)*cos(x)/x - sin(x)**2/x**2)*cos(x)**2/sin(x)**3 - 6*(4*sin(x)*cos(x) - 3*sin(x)**2/x + 3*cos(x)**2/x - 6*sin(x)*cos(x)/x**2 + 3*sin(x)**2/x**3)*cos(x)/sin(x)**2 - 4*(sin(x)**2 - cos(x)**2 + 4*sin(x)*cos(x)/x - 3*sin(x)**2/x**2 + 3*cos(x)**2/x**2 - 6*sin(x)*cos(x)/x**3 + 3*sin(x)**2/x**4)/sin(x) - 3*(2*cos(x) - sin(x)/x)/x - 9*(2*cos(x) - sin(x)/x)*cos(x)**2/(x*sin(x)**2) - 12*(sin(x)**2 - cos(x)**2 + 2*sin(x)*cos(x)/x - sin(x)**2/x**2)*cos(x)/(x*sin(x)**2) + 3*(4*sin(x)*cos(x) - 3*sin(x)**2/x + 3*cos(x)**2/x - 6*sin(x)*cos(x)/x**2 + 3*sin(x)**2/x**3)/(x*sin(x)))*sin(b**x)/sin(x))*exp(-a*sin(x**2))"
      ]
     },
     "execution_count": 20,
     "metadata": {},
     "output_type": "execute_result"
    }
   ],
   "source": [
    "d4fdx4"
   ]
  },
  {
   "cell_type": "markdown",
   "metadata": {},
   "source": [
    "## Luego puede calcular valores numéricos insertando números"
   ]
  },
  {
   "cell_type": "code",
   "execution_count": 21,
   "metadata": {},
   "outputs": [
    {
     "data": {
      "text/latex": [
       "$\\displaystyle -73035.8044625845$"
      ],
      "text/plain": [
       "-73035.8044625845"
      ]
     },
     "execution_count": 21,
     "metadata": {},
     "output_type": "execute_result"
    }
   ],
   "source": [
    "d4fdx4.subs([(x,4),(a,1),(b,2),(c,3)]).evalf()"
   ]
  },
  {
   "cell_type": "code",
   "execution_count": null,
   "metadata": {},
   "outputs": [],
   "source": []
  }
 ],
 "metadata": {
  "kernelspec": {
   "display_name": "Python 3",
   "language": "python",
   "name": "python3"
  },
  "language_info": {
   "codemirror_mode": {
    "name": "ipython",
    "version": 3
   },
   "file_extension": ".py",
   "mimetype": "text/x-python",
   "name": "python",
   "nbconvert_exporter": "python",
   "pygments_lexer": "ipython3",
   "version": "3.8.8"
  }
 },
 "nbformat": 4,
 "nbformat_minor": 4
}
