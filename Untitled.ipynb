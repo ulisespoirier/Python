{
 "cells": [
  {
   "cell_type": "code",
   "execution_count": 1,
   "id": "48ca6179-3db0-489d-9850-2110703a4817",
   "metadata": {},
   "outputs": [],
   "source": [
    "import numpy as np\n",
    "import scipy as sp\n",
    "import sympy as smp\n",
    "import matplotlib.pyplot as plt\n",
    "from scipy.misc import derivative"
   ]
  },
  {
   "cell_type": "code",
   "execution_count": 5,
   "id": "c3ba372d-b586-4845-82d9-74df63f7d818",
   "metadata": {},
   "outputs": [],
   "source": [
    "\n",
    "x, y, z = smp.symbols('x y z', real=True)"
   ]
  },
  {
   "cell_type": "code",
   "execution_count": 8,
   "id": "0604cebd-612b-414d-8bef-e8659e2d797a",
   "metadata": {},
   "outputs": [],
   "source": [
    "expr = smp.exp(x*y*z)"
   ]
  },
  {
   "cell_type": "code",
   "execution_count": 9,
   "id": "30471319-6d86-4a94-9c43-c50bb6e29bd3",
   "metadata": {},
   "outputs": [
    {
     "data": {
      "text/latex": [
       "$\\displaystyle e^{x y z}$"
      ],
      "text/plain": [
       "exp(x*y*z)"
      ]
     },
     "execution_count": 9,
     "metadata": {},
     "output_type": "execute_result"
    }
   ],
   "source": [
    "expr"
   ]
  },
  {
   "cell_type": "code",
   "execution_count": 37,
   "id": "8a795cea-e7da-4dce-ae9a-41af052a6ba3",
   "metadata": {},
   "outputs": [],
   "source": [
    "from sympy import *\n",
    "x, a, b = smp.symbols('x, a b', real=False)"
   ]
  },
  {
   "cell_type": "code",
   "execution_count": 54,
   "id": "7fd7f34f-c908-4d91-a826-7f753c6a17ca",
   "metadata": {},
   "outputs": [
    {
     "data": {
      "text/latex": [
       "$\\displaystyle \\int\\limits_{-\\infty}^{\\infty} x^{2}\\, dx$"
      ],
      "text/plain": [
       "Integral(x**2, (x, -oo, oo))"
      ]
     },
     "execution_count": 54,
     "metadata": {},
     "output_type": "execute_result"
    }
   ],
   "source": [
    "expr = Integral(x**2, (x,-oo,oo))\n",
    "expr"
   ]
  },
  {
   "cell_type": "code",
   "execution_count": 55,
   "id": "0e1133f4-5e5c-4601-a20c-b374c2bf799a",
   "metadata": {},
   "outputs": [
    {
     "data": {
      "text/latex": [
       "$\\displaystyle \\int\\limits_{a}^{b} x^{2}\\, dx + \\int\\limits_{a}^{b} \\cos{\\left(x \\right)}\\, dx$"
      ],
      "text/plain": [
       "Integral(x**2, (x, a, b)) + Integral(cos(x), (x, a, b))"
      ]
     },
     "execution_count": 55,
     "metadata": {},
     "output_type": "execute_result"
    }
   ],
   "source": [
    "expr = Integral(x**2, (x,a,b)) + Integral(cos(x), (x,a,b))\n",
    "expr"
   ]
  },
  {
   "cell_type": "code",
   "execution_count": 61,
   "id": "4a60dd8d-edec-4541-b7ca-b99b00bf079e",
   "metadata": {},
   "outputs": [
    {
     "data": {
      "text/latex": [
       "$\\displaystyle \\int\\limits_{-\\infty}^{\\infty} x^{x}\\, dx$"
      ],
      "text/plain": [
       "Integral(x**x, (x, -oo, oo))"
      ]
     },
     "execution_count": 61,
     "metadata": {},
     "output_type": "execute_result"
    }
   ],
   "source": [
    "expr = integrate(x**x, (x,-oo,oo))\n",
    "expr"
   ]
  },
  {
   "cell_type": "code",
   "execution_count": 59,
   "id": "db4e1ae3-10ac-4c15-8c75-aed7b20cf773",
   "metadata": {},
   "outputs": [
    {
     "data": {
      "text/latex": [
       "$\\displaystyle \\frac{d}{d x} \\left(7 x^{3} + 3 x^{2}\\right)$"
      ],
      "text/plain": [
       "Derivative(7*x**3 + 3*x**2, x)"
      ]
     },
     "execution_count": 59,
     "metadata": {},
     "output_type": "execute_result"
    }
   ],
   "source": [
    "deriv = Derivative(3*x**2+7*x**3, x)\n",
    "deriv"
   ]
  },
  {
   "cell_type": "code",
   "execution_count": 60,
   "id": "43d989a7-805b-406f-88d0-d659f54cce03",
   "metadata": {},
   "outputs": [
    {
     "data": {
      "text/latex": [
       "$\\displaystyle 21 x^{2} + 6 x$"
      ],
      "text/plain": [
       "21*x**2 + 6*x"
      ]
     },
     "execution_count": 60,
     "metadata": {},
     "output_type": "execute_result"
    }
   ],
   "source": [
    "deriv = diff(3*x**2+7*x**3, x)\n",
    "deriv"
   ]
  },
  {
   "cell_type": "code",
   "execution_count": null,
   "id": "e1cb7f8e-9f97-4811-9aa6-4d7088313558",
   "metadata": {},
   "outputs": [],
   "source": []
  }
 ],
 "metadata": {
  "kernelspec": {
   "display_name": "Python 3",
   "language": "python",
   "name": "python3"
  },
  "language_info": {
   "codemirror_mode": {
    "name": "ipython",
    "version": 3
   },
   "file_extension": ".py",
   "mimetype": "text/x-python",
   "name": "python",
   "nbconvert_exporter": "python",
   "pygments_lexer": "ipython3",
   "version": "3.8.8"
  }
 },
 "nbformat": 4,
 "nbformat_minor": 5
}
